{
 "cells": [
  {
   "cell_type": "markdown",
   "metadata": {},
   "source": [
    "# Power\n",
    "\n",
    "This notebook contains code to assess power and determine the optimal $n\\_\\{variable\\}$ in an experiment. \n",
    "\n",
    "There are **two** ways of doing this:\n",
    "1. [Simulation based approach](#simulation-based-approach)\\\n",
    "See the [description](#description-of-simulation-based-approach) below.\n",
    "\n",
    "2. [Numerically estimation power](#numerical-power-estimation)\\\n",
    "See the [description](#description-of-numerical-power-estimation) below.\n",
    "\n",
    "## Recommendations\n",
    "1. Please ensure that you have install `wiscs`. \n",
    "2. Read the descriptions in the markdown cells carefully."
   ]
  },
  {
   "cell_type": "markdown",
   "metadata": {},
   "source": [
    "## Imports"
   ]
  },
  {
   "cell_type": "code",
   "execution_count": null,
   "metadata": {},
   "outputs": [],
   "source": [
    "# if you wish to run the simulation approach, please install the following packages\n",
    "!pip install git+https://github.com/w-decker/wiscs.git --quiet # REQUIRED FOR THIS NOTEBOOK\n",
    "!pip install git+https://github.com/w-decker/rinterface.git --quiet # REQUIRED FOR THIS NOTEBOOK"
   ]
  },
  {
   "cell_type": "code",
   "execution_count": null,
   "metadata": {},
   "outputs": [],
   "source": [
    "# if you wish to install `mixedpower`, run this cell _after_ activating the wiscs-stats conda environment\n",
    "!pip install git+https://github.com/w-decker/mixedpower.git"
   ]
  },
  {
   "cell_type": "code",
   "execution_count": 3,
   "metadata": {},
   "outputs": [],
   "source": [
    "import mixedpower as mp # type: ignore\n",
    "\n",
    "import rinterface.rinterface as R\n",
    "from src.power import grid\n",
    "import numpy as np\n",
    "\n",
    "import wiscs\n",
    "from wiscs.utils import make_tasks\n",
    "from wiscs.simulate import DataGenerator\n",
    "\n",
    "from tqdm import tqdm"
   ]
  },
  {
   "cell_type": "markdown",
   "metadata": {},
   "source": [
    "## Description of simulation based approach\n",
    "\n",
    "A simulation based approach to calculating $n\\_\\{variable\\}$ for an experiment is simple, but it involves a few steps.\n",
    "\n",
    "1. First, a combination, $C$, of all possible values of parameters is generated (See sample slice below).\n",
    "\n",
    "|   | n_items | n_participants | \n",
    "|---|---------|----------------|\n",
    "| 0 | 10      | 10             | \n",
    "| 1 | 10      | 20             | \n",
    "| 2 | 10      | 30             | \n",
    "| 3 | 10      | 40             |\n",
    "| 4 | 10      | 50             | \n",
    "| 5 | 20      | 10             | \n",
    "| 6 | 20      | 20             | \n",
    "| 7 | 20      | 30             | \n",
    "| 8 | 20      | 40             | \n",
    "| 9 | 20      | 50             | \n",
    "\n",
    "2. Then for $k$ iterations, a dataset is randomly generated for each row in $C$.\n",
    "\n",
    "3. Two linear modeld are run with the generated data. The first being something like `Y ~ FE1 + FE 2 + (1 + FE2 | subject)` and the second `Y ~ FE1 + FE + (FE1 : FE2) + (1 + FE2 | subject)`. If the AIC of model one is lower or there is no statistical difference between the two models, then a counter, $T$ (which is initialized with $0$) is updated with $+1$.\n",
    "\n",
    "7. Desired power is reached when $\\frac{\\text{sum}(T)}{k} = \\text{desired power}$. \n",
    "\n",
    "See [here](https://cran.r-project.org/web/packages/SimEngine/vignettes/example_1.html#:~:text=The%20basic%20idea%20is%20that,this%20is%20your%20estimated%20power.) for more details."
   ]
  },
  {
   "cell_type": "markdown",
   "metadata": {},
   "source": [
    "## Let's generate some data\n",
    "\n",
    "See [generate_data.ipynb](/notebooks/generate_data.ipynb) for details regarding how data are generated."
   ]
  },
  {
   "cell_type": "code",
   "execution_count": 7,
   "metadata": {},
   "outputs": [],
   "source": [
    "task = make_tasks(200, 300, 5)\n",
    "params = {\n",
    "    'word.perceptual': 100,\n",
    "    'image.perceptual': 90,\n",
    "\n",
    "    'word.conceptual': 100,\n",
    "    'image.conceptual': 130,\n",
    "\n",
    "    'word.task': task,\n",
    "    'image.task': task,\n",
    "\n",
    "    'sd.item': None, \n",
    "    'sd.question': None, \n",
    "    'sd.subject':30,\n",
    "    \"sd.error\": 50, \n",
    "\n",
    "    'n.subject': 0,\n",
    "    'n.question': 5,\n",
    "    'n.item': 0\n",
    "}\n",
    "\n",
    "wiscs.set_params(params, verbose=False)"
   ]
  },
  {
   "cell_type": "markdown",
   "metadata": {},
   "source": [
    "Below are some variables"
   ]
  },
  {
   "cell_type": "code",
   "execution_count": 8,
   "metadata": {},
   "outputs": [],
   "source": [
    "n_iter = 1000 # how many interations to do?\n",
    "desired_power = 0.8"
   ]
  },
  {
   "cell_type": "code",
   "execution_count": 9,
   "metadata": {},
   "outputs": [],
   "source": [
    "# If you wish to define a possible range of n_{variable}, modify + run this cell\n",
    "\n",
    "#################################################################\n",
    "n_subjects_range = np.arange(10, 200, 10) # range of subjects to test\n",
    "n_items_range = np.arange(10, 50, 5) # range of items to test\n",
    "#################################################################\n",
    "\n",
    "combinations = grid(subjects=n_subjects_range, items=n_items_range) # get all combinatinos"
   ]
  },
  {
   "cell_type": "markdown",
   "metadata": {},
   "source": [
    "## Simulation based approach\n",
    "\n"
   ]
  },
  {
   "cell_type": "markdown",
   "metadata": {},
   "source": [
    "`rinterface.rinterface()`, a (somewhat clumsy but convienient) way to interface with R in Python is how we will run linear models. Below is is the R code we will run"
   ]
  },
  {
   "cell_type": "code",
   "execution_count": 14,
   "metadata": {},
   "outputs": [],
   "source": [
    "# code for model eval in R\n",
    "code = \"\"\"\n",
    "suppressMessages(library(lme4))\n",
    "\n",
    "# load data\n",
    "df <- as.data.frame(read.csv(\"../data/power_data.csv\"))\n",
    "\n",
    "# model\n",
    "control <- lmerControl(check.conv.singular = \"ignore\")\n",
    "shared <- suppressWarnings(lmer(rt ~ modality + question + (1 + question | subject) , data = df, REML = FALSE, control = control)) # nolint\n",
    "separate <- suppressWarnings(lmer(rt ~ modality * question + (1 + question |subject), data = df, REML = FALSE, control = control)) # nolint\n",
    "\n",
    "# compare\n",
    "aicvalues <- c(\"Shared\" = AIC(shared), \"Separate\" = AIC(separate))\n",
    "\n",
    "# @grab{str}\n",
    "winner <- names(aicvalues)[which.min(aicvalues)]\n",
    "\"\"\""
   ]
  },
  {
   "cell_type": "markdown",
   "metadata": {},
   "source": [
    "Below is the loop"
   ]
  },
  {
   "cell_type": "code",
   "execution_count": null,
   "metadata": {},
   "outputs": [
    {
     "name": "stderr",
     "output_type": "stream",
     "text": [
      "  0%|          | 0/152 [00:27<?, ?it/s, Power=0.044, Count=49, # Winners=44, # Losers=6]"
     ]
    }
   ],
   "source": [
    "iter = tqdm(combinations) # instantiate iter obj\n",
    "\n",
    "results = {} # for storing results \n",
    "\n",
    "for j, (sub, items) in enumerate(iter):\n",
    "    success = []\n",
    "    for i in range(n_iter):\n",
    "        \n",
    "        DG = DataGenerator()\n",
    "        DG.fit_transform(params={'n.subject': int(sub), 'n.item': int(items)}) # udpate subject and item values \n",
    "        DG.to_pandas().to_csv(f\"../data/power_data.csv\", index=False) # save data to csv\n",
    "\n",
    "        winner = R(code, grab=True) # see which model wins\n",
    "        success.append(1) if winner == 'Shared' else success.append(0)\n",
    "\n",
    "        power = np.sum(success) / n_iter # calculate power\n",
    "        iter.set_postfix({\"Power\": power, \"Count\": i, \"# Winners\": np.sum(success), \"# Losers\": success.count(0)}) # update tqdm\n",
    "\n",
    "    if power >= desired_power:\n",
    "        results[(sub, items)] = power\n",
    "        break"
   ]
  },
  {
   "cell_type": "markdown",
   "metadata": {},
   "source": [
    "## Description of numerical power estimation\n",
    "\n",
    "Here, $n\\_\\{variable\\}$ is solved numerically. This makes use of [`mixedpower`](https://github.com/w-decker/mixedpower) a python library for estimating power in mixed effects models. In short, this library is simply a Python conversion of [Jake Westfall's code](https://github.com/jake-westfall/two_factor_power/tree/master). \n",
    "\n",
    "In short, power is estimatied using a noncentrality parameter, $t$ and various variance components to estimate degrees of freedom and in turn, calculate power.\n",
    "\n",
    "You can also solve for $n\\_\\{variable\\}$. This is done by determing which value of $n\\_\\{variable\\}$ minimized the squared error between desired power and the empirical power using that value for $n\\_\\{variable\\}$. "
   ]
  },
  {
   "cell_type": "markdown",
   "metadata": {},
   "source": [
    "## Numerical power estimation"
   ]
  },
  {
   "cell_type": "code",
   "execution_count": 35,
   "metadata": {},
   "outputs": [
    {
     "name": "stdout",
     "output_type": "stream",
     "text": [
      "Number of participants: 25\n"
     ]
    }
   ],
   "source": [
    "# to solve for n_participants, modify + run this cell \n",
    "\n",
    "###############################\n",
    "args = dict(\n",
    "    p=0.8, # desired power\n",
    "    cohens_d = 0.5,\n",
    "    resid=0.3,\n",
    "    target_intercept=0.2,\n",
    "    participant_intercept=0.2,\n",
    "    participant_x_target = 0.1,\n",
    "    target_slope=0.1,\n",
    "    participant_slope=0.1,\n",
    "    n_targets = 30,\n",
    "    code=1, \n",
    "    alpha=0.05,\n",
    ")\n",
    "###############################\n",
    "\n",
    "###############################################################\n",
    "n_participants, _ = mp.solve(variable='n_participants', **args) # <- CHANGE THIS AS NEEDED | variable='n_targets'\n",
    "print(f'Number of participants: {n_participants}')\n",
    "###############################################################"
   ]
  }
 ],
 "metadata": {
  "kernelspec": {
   "display_name": "wiscs-stats",
   "language": "python",
   "name": "python3"
  },
  "language_info": {
   "codemirror_mode": {
    "name": "ipython",
    "version": 3
   },
   "file_extension": ".py",
   "mimetype": "text/x-python",
   "name": "python",
   "nbconvert_exporter": "python",
   "pygments_lexer": "ipython3",
   "version": "3.12.8"
  }
 },
 "nbformat": 4,
 "nbformat_minor": 2
}
