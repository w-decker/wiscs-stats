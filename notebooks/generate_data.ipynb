{
 "cells": [
  {
   "cell_type": "markdown",
   "metadata": {},
   "source": [
    "# Generating data\n",
    "\n",
    "This notebook contains a step-by-step walkthrough for data generation. Data are generated using a custom module, [`wiscs`](https://github.com/w-decker/wiscs). This module takes in a set of parameters in the form of a python dictionary. \n",
    "\n",
    "There are **three** ways to generate data in this notebook:\n",
    "1. [Load in some pre-existing parameters and generate data based on these](#loading-in-pre-existing-parameters-and-generating-data)\\\n",
    "This process involves loading in a few pre-made custom parameter files and generating data based on these. There are three options to choose from: 1) parameters that align with the alternative hypothesis described in [Potter & Faulconer (1975)](https://www.nature.com/articles/253437a0), 2) parameters that align with the main hypothesis and 3) parameters that align with the alternative hypothesis that two separate conceptual spaces exist for words and images. \n",
    "\n",
    "2. [Dynamically generate data using the `ipywidgets` widget](#generate-parameters-and-data-with-ipywidgets)\\\n",
    "This process involves a widget made with `ipywidgets`. This allows the user to manually set parameter values in a hierarchically-esque structured GUI.\n",
    "\n",
    "3. [Modify the parameters dictionary yourself](#generate-your-own-data-by-modifying-the-parameters-dictionary)\\\n",
    "This process involves directly modifying an empty sample parameters dictionary with the values necessary for the simulation code. \n",
    "\n",
    "## Recommendations\n",
    "1. It is necessary that you install `wiscs`. The first cell under [Imports](#imports) installs the module via `pip`.\n",
    "2. Read the comments in each cell carefully. There are instructions for what code may require modification. "
   ]
  },
  {
   "cell_type": "markdown",
   "metadata": {},
   "source": [
    "## Imports"
   ]
  },
  {
   "cell_type": "code",
   "execution_count": 2,
   "metadata": {},
   "outputs": [],
   "source": [
    "# If you have not installed `wiscs` locally, run this cell\n",
    "!pip install git+https://github.com/w-decker/wiscs.git --quiet # REQUIRED FOR THIS NOTEBOOK"
   ]
  },
  {
   "cell_type": "code",
   "execution_count": 3,
   "metadata": {},
   "outputs": [],
   "source": [
    "# if you wish to load in the pre-existing parameters, run this cell\n",
    "from src.utils import load_params, base\n",
    "import os"
   ]
  },
  {
   "cell_type": "code",
   "execution_count": 4,
   "metadata": {},
   "outputs": [],
   "source": [
    "# if you wish to use the `ipywidgets` tool, then run this cell\n",
    "import ipywidgets as widgets\n",
    "from src.wiscs_widgets import wiscs_widget\n",
    "from src.utils import extract_params_from_widget"
   ]
  },
  {
   "cell_type": "code",
   "execution_count": 5,
   "metadata": {},
   "outputs": [],
   "source": [
    "# always run this cell, no matter which method you choose\n",
    "import wiscs\n",
    "from wiscs.simulate import DataGenerator\n",
    "from wiscs.utils import make_tasks"
   ]
  },
  {
   "cell_type": "markdown",
   "metadata": {},
   "source": [
    "## Loading in pre-existing parameters and generating data"
   ]
  },
  {
   "cell_type": "code",
   "execution_count": 6,
   "metadata": {},
   "outputs": [
    {
     "data": {
      "text/plain": [
       "['Potter1975', 'Main', 'Alt']"
      ]
     },
     "execution_count": 6,
     "metadata": {},
     "output_type": "execute_result"
    }
   ],
   "source": [
    "# there are three different parameter sets to choose from. To see them run this cell\n",
    "base(os.listdir('../config'), [])"
   ]
  },
  {
   "cell_type": "code",
   "execution_count": 7,
   "metadata": {},
   "outputs": [
    {
     "name": "stdout",
     "output_type": "stream",
     "text": [
      "If you wish to load a single param, choose from the following:\n",
      "           ['Potter1975', 'Main', 'Alt']\n"
     ]
    }
   ],
   "source": [
    "# if you wish to load in the pre-existing parameters, modify + run this cell\n",
    "\n",
    "# do you want to see ALL the parameter files?\n",
    "######################################################\n",
    "load_in_all_params = False # <-- CHANGE THIS AS NEEDED | True or False\n",
    "######################################################\n",
    "\n",
    "# do you want to load in ALL the files as a SINGLE dictionary object?\n",
    "# NOTE: this can only be true if `load_in_all_params` is True\n",
    "############################################################\n",
    "load_in_as_single_object = False # <-- CHANGE THIS AS NEEDED | True or False\n",
    "############################################################\n",
    "\n",
    "if not load_in_all_params:\n",
    "    file_tags = base(os.listdir(\"../config\"), [])\n",
    "    print(f'If you wish to load a single param, choose from the following:\\n \\\n",
    "          {file_tags}')"
   ]
  },
  {
   "cell_type": "code",
   "execution_count": 8,
   "metadata": {},
   "outputs": [
    {
     "name": "stdout",
     "output_type": "stream",
     "text": [
      "Loading in Potter1975 parameters...\n"
     ]
    }
   ],
   "source": [
    "# if you wish to load in the pre-existing parameters, modify + run this cell\n",
    "if load_in_all_params:\n",
    "    if load_in_as_single_object:\n",
    "        print('Loading in all parameters as a single object...')\n",
    "        params = load_params(path='../config', all=True, merge=True)\n",
    "    else:\n",
    "        print('Loading in all parameters as separate objects...')\n",
    "        potter1975, main, alt = params = load_params(path='../config', all=True, merge=False)\n",
    "elif not load_in_all_params:     \n",
    "    \n",
    "    ################################################\n",
    "    fname = 'Potter1975' # <-- CHANGE THIS AS NEEDED | For example, \"Potter1975\", \"Main\" or \"Alt\" (as type str)\n",
    "    ################################################\n",
    "    \n",
    "    print(f'Loading in {fname} parameters...') \n",
    "    param = load_params(path='../config', fname=fname, all=False, merge=False)"
   ]
  },
  {
   "cell_type": "code",
   "execution_count": 9,
   "metadata": {},
   "outputs": [
    {
     "name": "stdout",
     "output_type": "stream",
     "text": [
      "Params set successfully\n"
     ]
    },
    {
     "name": "stderr",
     "output_type": "stream",
     "text": [
      "/opt/homebrew/anaconda3/envs/wiscs-stats/lib/python3.12/site-packages/wiscs/simulate.py:28: UserWarning: Tasks parameters are different. Generating data for ALTERNATIVE hypothesis.\n",
      "  warnings.warn(\"Tasks parameters are different. Generating data for ALTERNATIVE hypothesis.\")\n"
     ]
    },
    {
     "data": {
      "text/plain": [
       "<wiscs.simulate.DataGenerator at 0x11407a840>"
      ]
     },
     "execution_count": 9,
     "metadata": {},
     "output_type": "execute_result"
    }
   ],
   "source": [
    "# If you are satisfied with the parameters and are ready to generate data, modify + run this cell\n",
    "\n",
    "#####################\n",
    "param_to_load = param # <-- CHANGE THIS AS NEEDED | For example, `potter1975` (variable) or params['potter1975']\n",
    "#####################\n",
    "  \n",
    "wiscs.set_params(param)\n",
    "DG = DataGenerator()\n",
    "DG.fit_transform()"
   ]
  },
  {
   "cell_type": "code",
   "execution_count": 10,
   "metadata": {},
   "outputs": [],
   "source": [
    "# If you wish to save the data, modify + run this cell\n",
    "\n",
    "########################################\n",
    "output_name = \"simulated_Potter1975.csv\" # <-- CHANGE THIS AS NEEDED | For example, \"simulated_Main_data.csv\"\n",
    "########################################\n",
    "\n",
    "DG.to_pandas().to_csv(f'../data/{output_name}', index=False)"
   ]
  },
  {
   "cell_type": "markdown",
   "metadata": {},
   "source": [
    "## Generate parameters and data with `ipywidgets`\n",
    "\n",
    "The widget is structured as follows. \n",
    "\n",
    "```bash\n",
    "WISCS_WIDGET\n",
    "├── **Cognitive Parameters**\n",
    "│   ├── Word -> Perceptual\n",
    "│   ├── Image -> Perceptual\n",
    "│   ├── Word -> Conceptual\n",
    "│   ├── Image -> Conceptual\n",
    "│   └── Tasks\n",
    "│       ├── Range of tasks parameters\n",
    "│       ├── Number of tasks \n",
    "│       ├── Copy?\n",
    "├── **Variance Parameters**\n",
    "│   ├── Word\n",
    "│   ├── Image\n",
    "│   ├── Question\n",
    "│   └── Participant\n",
    "├── **Experiment Parameters**\n",
    "│   ├── Number of Participants\n",
    "│   ├── Number of items \n",
    "│   ├── Number of tasks \n",
    "│   └── Design\n",
    "│       ├── within\n",
    "│       └── between\n",
    "```\n",
    "\n",
    "Below is a desription of each in tabular format\n",
    "\n",
    "| Tab | Description | \n",
    "| --- | ----------- |\n",
    "| **Cognitive Parameters** | --- |\n",
    "| Word -> Perceptual | Expected value: integer. The theoretical value for activating the perceptual representation of a word |\n",
    "| Image -> Perceptual | Expected value: integer. The theoretical value for activating the perceptual representation of an image |\n",
    "| Word -> Conceptual | Expected value: integer. The theoretical value for activating the conceptual representation of a word |\n",
    "| Image -> Conceptual | Expected value: integer. The theoretical value for activating the conceptual representation of an image |\n",
    "| Tasks | This generates a random permutation of values between a desired range, corresponging to the task parameter for each question. You must also specify the number of tasks. Additionally, you may select whether to \"copy\" these values, which means that an identical array of task parameters will be created for both word and image. This is inline with the MAIN hypothesis. If not selected, then two different arrays will be used for word and image taske parameters | \n",
    "| **Variance Parameters** | --- | \n",
    "| Word | Expected value: integer or float. $\\sigma^2$ for word | \n",
    "| Image | Expected value: integer or float. $\\sigma^2$ for image | \n",
    "| Question | Expected value: integer or float. $\\sigma^2$ for question | \n",
    "| Participant | Expected value: integer or float. $\\sigma^2$ for participant | \n",
    "| **Experiment Parameters** | --- | \n",
    "| Number of particpants | Expected value: integer. The number of participants to include in the study | \n",
    "| Number of items | Expected value: integer. The number of items. E.g., if set to 45, participants will see 45 images and 45 words. |  \n",
    "| Number of tasks | Expected value: integer. The number of questions seen by participants. | \n",
    "| Design | Whether **items** is a within or between subjects variable |\n"
   ]
  },
  {
   "cell_type": "code",
   "execution_count": 11,
   "metadata": {},
   "outputs": [
    {
     "data": {
      "application/vnd.jupyter.widget-view+json": {
       "model_id": "133e425af54b4eb9b90d50084ed041c2",
       "version_major": 2,
       "version_minor": 0
      },
      "text/plain": [
       "Tab(children=(Accordion(children=(IntText(value=0), IntText(value=0), IntText(value=0), IntText(value=0), VBox…"
      ]
     },
     "metadata": {},
     "output_type": "display_data"
    }
   ],
   "source": [
    "# to load the widget, run this cell\n",
    "\n",
    "# fill out the necessary information in the tabs and dropdowns. \n",
    "w = wiscs_widget\n",
    "w"
   ]
  },
  {
   "cell_type": "code",
   "execution_count": 18,
   "metadata": {},
   "outputs": [
    {
     "name": "stdout",
     "output_type": "stream",
     "text": [
      "Params set successfully\n"
     ]
    },
    {
     "data": {
      "text/plain": [
       "<wiscs.simulate.DataGenerator at 0x15e092c40>"
      ]
     },
     "execution_count": 18,
     "metadata": {},
     "output_type": "execute_result"
    }
   ],
   "source": [
    "# If you are satisfied with the parameters and are ready to generate data, run this cell\n",
    "wiscs.set_params(\n",
    "    extract_params_from_widget(w)\n",
    "    )\n",
    "DG = DataGenerator()\n",
    "DG.fit_transform()"
   ]
  },
  {
   "cell_type": "code",
   "execution_count": 14,
   "metadata": {},
   "outputs": [],
   "source": [
    "# If you wish to save the data, modify + run this cell\n",
    "\n",
    "########################################\n",
    "output_name = \"simulated_data.csv\" # <-- CHANGE THIS AS NEEDED | For example, \"simulated_data.csv\"\n",
    "########################################\n",
    "\n",
    "DG.to_pandas().to_csv(f'../data/{output_name}', index=False)"
   ]
  },
  {
   "cell_type": "markdown",
   "metadata": {},
   "source": [
    "## Generate your own data by modifying the parameters dictionary"
   ]
  },
  {
   "cell_type": "code",
   "execution_count": 15,
   "metadata": {},
   "outputs": [],
   "source": [
    "# If you wish to generate data based on parameters you wish to define directly in the code, modify + run this cell\n",
    "\n",
    "########################################################################################\n",
    "params = {\n",
    "    'word.perceptual': ...,\n",
    "    'image.perceptual': ...,\n",
    "\n",
    "    'word.concept': ...,\n",
    "    'image.concept': ...,\n",
    "\n",
    "    'word.task': ..., # expected type: np.ndarray such that len(word.task) == n.question\n",
    "    'image.task': ..., # expected type: np.ndarray len(image.task) == n.question\n",
    "\n",
    "    'var.image': ...,\n",
    "    'var.word': ...,\n",
    "    'var.question': ...,\n",
    "    'var.participant': ...,\n",
    "\n",
    "    'n.participant': ...,\n",
    "    'n.question': ...,\n",
    "    'n.trial': ..., # equivalent to number of items\n",
    "    'design': {'items': ...} # 'between' or 'within'\n",
    "}\n",
    "########################################################################################"
   ]
  },
  {
   "cell_type": "code",
   "execution_count": null,
   "metadata": {},
   "outputs": [],
   "source": [
    "# If you are satisfied with the parameters and are ready to generate data, run this cell\n",
    "\n",
    "wiscs.set_params(params)\n",
    "DG = DataGenerator()\n",
    "DG.fit_transform()"
   ]
  },
  {
   "cell_type": "code",
   "execution_count": null,
   "metadata": {},
   "outputs": [],
   "source": [
    "# If you wish to save the data, modify + run this cell\n",
    "\n",
    "########################################\n",
    "output_name = \"simulated_data.csv\" # <-- CHANGE THIS AS NEEDED | For example, \"simulated_data.csv\"\n",
    "########################################\n",
    "\n",
    "DG.to_pandas().to_csv(f'../data/{output_name}', index=False)"
   ]
  }
 ],
 "metadata": {
  "kernelspec": {
   "display_name": "wiscs-stats",
   "language": "python",
   "name": "python3"
  },
  "language_info": {
   "codemirror_mode": {
    "name": "ipython",
    "version": 3
   },
   "file_extension": ".py",
   "mimetype": "text/x-python",
   "name": "python",
   "nbconvert_exporter": "python",
   "pygments_lexer": "ipython3",
   "version": "3.12.8"
  }
 },
 "nbformat": 4,
 "nbformat_minor": 2
}
