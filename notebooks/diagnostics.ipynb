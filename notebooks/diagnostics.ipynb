{
 "cells": [
  {
   "cell_type": "code",
   "execution_count": 1,
   "metadata": {},
   "outputs": [],
   "source": [
    "# If you have not installed `wiscs` locally, run this cell\n",
    "!pip install git+https://github.com/w-decker/wiscs.git --quiet # REQUIRED FOR THIS NOTEBOOK\n",
    "!pip install git+https://github.com/w-decker/rinterface.git --quiet # REQUIRED FOR THIS NOTEBOOK"
   ]
  },
  {
   "cell_type": "code",
   "execution_count": 2,
   "metadata": {},
   "outputs": [],
   "source": [
    "# always run this cell, no matter which method you choose\n",
    "import wiscs\n",
    "from wiscs.simulate import DataGenerator\n",
    "from wiscs.formula import Formula\n",
    "\n",
    "import numpy as np\n",
    "import pandas as pd"
   ]
  },
  {
   "cell_type": "markdown",
   "metadata": {},
   "source": [
    "# Generate data without order effects"
   ]
  },
  {
   "cell_type": "code",
   "execution_count": 3,
   "metadata": {},
   "outputs": [],
   "source": [
    "np.random.seed(2027)\n",
    "\n",
    "n_subject = 180\n",
    "n_item = 30\n",
    "n_question = 2\n",
    "word_task = np.array([100, 100])\n",
    "hyp = \"shared\"\n",
    "if hyp == \"shared\":\n",
    "    image_task = np.array([100, 100])\n",
    "else:\n",
    "    image_task = np.array([100, 105])\n",
    "\n",
    "re_formula = Formula(\"(1 + question | subject) + (1 + question | item)\")\n",
    "question_sd = [10, 12, 15, 18, 11] # must be n_q - 1\n",
    "params = {'word.perceptual': 100, 'image.perceptual': 95, 'word.conceptual': 100, 'image.conceptual': 100, 'word.task': word_task, 'image.task': image_task,\n",
    "        # noise parameters     \n",
    "        'sd.item': 40,     'sd.question': question_sd[:n_question-1],    'sd.subject': 35,       \"sd.modality\": 30, \"sd.error\": 50, \"sd.re_formula\": str(re_formula),\n",
    "        # correlations among random effects    \n",
    "        \"corr.subject\": np.eye(n_question), 'corr.item':np.eye(n_question),\n",
    "        # design parameters\n",
    "        'n.subject': n_subject, 'n.question': n_question, 'n.item': n_item\n",
    "}\n",
    "wiscs.set_params(params, verbose=False)\n",
    "\n",
    "DG = DataGenerator()\n",
    "DG.fit_transform(seed=2027, verbose=False)\n",
    "df = DG.to_pandas()"
   ]
  },
  {
   "cell_type": "code",
   "execution_count": 5,
   "metadata": {},
   "outputs": [],
   "source": [
    "# df.to_csv(\"~/Desktop/test.csv\", index=False)"
   ]
  },
  {
   "cell_type": "code",
   "execution_count": 4,
   "metadata": {},
   "outputs": [],
   "source": [
    "# checking tag variables\n",
    "# want to know whether this dataset follows Exp2 design or not\n",
    "# and how we can recode to order variables to match Exp1 and Exp2 designs\n",
    "\n",
    "df2 = df.copy()\n",
    "np.random.seed(44)\n",
    "subjects = df2['subject'].unique()\n",
    "half_size = len(subjects) // 2\n",
    "tags = np.array([0] * half_size + [1] * (len(subjects) - half_size))\n",
    "np.random.shuffle(tags)  # Shuffle to randomize the order\n",
    "subject_tags = dict(zip(subjects, tags))\n",
    "df2['tag'] = df2['subject'].map(subject_tags)"
   ]
  },
  {
   "cell_type": "code",
   "execution_count": 5,
   "metadata": {},
   "outputs": [
    {
     "name": "stdout",
     "output_type": "stream",
     "text": [
      "       subject  tag\n",
      "0            0    0\n",
      "60           1    0\n",
      "120          2    0\n",
      "180          3    1\n",
      "240          4    1\n",
      "...        ...  ...\n",
      "10500      175    1\n",
      "10560      176    0\n",
      "10620      177    1\n",
      "10680      178    1\n",
      "10740      179    0\n",
      "\n",
      "[180 rows x 2 columns]\n",
      "Unique tags: [0 1]\n",
      "Unique subjects per tag: tag\n",
      "0    90\n",
      "1    90\n",
      "Name: subject, dtype: int64\n"
     ]
    }
   ],
   "source": [
    "# list each subject and their tag\n",
    "subject_tags_list = df2[['subject', 'tag']].drop_duplicates().sort_values(by='subject')\n",
    "print(subject_tags_list)\n",
    "\n",
    "# list number of unique subjects in each tag\n",
    "unique_tags = df2['tag'].unique()\n",
    "print(f\"Unique tags: {unique_tags}\")\n",
    "# list number of unique subjects in each tag\n",
    "unique_subjects_per_tag = df2.groupby('tag')['subject'].nunique()\n",
    "print(f\"Unique subjects per tag: {unique_subjects_per_tag}\")"
   ]
  },
  {
   "cell_type": "markdown",
   "metadata": {},
   "source": [
    "# Generate data with order effects"
   ]
  },
  {
   "cell_type": "code",
   "execution_count": null,
   "metadata": {},
   "outputs": [],
   "source": [
    "df2 = df.copy()\n",
    "np.random.seed(44)\n",
    "subjects = df2['subject'].unique()\n",
    "half_size = len(subjects) // 2\n",
    "tags = np.array([0] * half_size + [1] * (len(subjects) - half_size))\n",
    "np.random.shuffle(tags)  # Shuffle to randomize the order\n",
    "subject_tags = dict(zip(subjects, tags))\n",
    "df2['tag'] = df2['subject'].map(subject_tags)\n",
    "\n",
    "# Add `qorder`\n",
    "\n",
    "# Define the recoding function\n",
    "def recode_qorder(row):\n",
    "    if row[\"tag\"] == 0:\n",
    "        if row[\"modality\"] == \"word\":\n",
    "            return 1 if row[\"question\"] == 1 else 2\n",
    "        else:  # image\n",
    "            return 3 if row[\"question\"] == 1 else 4\n",
    "    else:  # tag == 1\n",
    "        if row[\"modality\"] == \"image\":\n",
    "            return 1 if row[\"question\"] == 2 else 2\n",
    "        else:  # word\n",
    "            return 3 if row[\"question\"] == 2 else 4\n",
    "\n",
    "# Apply to your dataframe\n",
    "df2[\"qorder\"] = df2.apply(recode_qorder, axis=1)"
   ]
  },
  {
   "cell_type": "code",
   "execution_count": 9,
   "metadata": {},
   "outputs": [],
   "source": [
    "# apply order effects\n",
    "\n",
    "def shift_rt(row, shift=300, noise_sd=50):\n",
    "    # Determine if this is the first image block for the subject based on tag\n",
    "    if row['modality'] == 'image':\n",
    "        if (row['tag'] == 0 and row['qorder'] == 3) or (row['tag'] == 1 and row['qorder'] == 1):\n",
    "            return row['rt'] + shift + np.random.normal(0, noise_sd)\n",
    "    return row['rt']\n",
    "\n",
    "df2['rt'] = df2.apply(shift_rt, axis=1)\n"
   ]
  },
  {
   "cell_type": "code",
   "execution_count": 13,
   "metadata": {},
   "outputs": [],
   "source": [
    "df2['first_image_block'] = (\n",
    "    ((df2['tag'] == 0) & (df2['qorder'] == 3)) |\n",
    "    ((df2['tag'] == 1) & (df2['qorder'] == 1))\n",
    ").astype(int)"
   ]
  },
  {
   "cell_type": "code",
   "execution_count": 14,
   "metadata": {},
   "outputs": [],
   "source": [
    "df2.to_csv(\"wiscs_data_ordere.csv\", index=False)"
   ]
  },
  {
   "cell_type": "markdown",
   "metadata": {},
   "source": [
    "## Only generating order effects for a proportion of subjects"
   ]
  },
  {
   "cell_type": "code",
   "execution_count": null,
   "metadata": {},
   "outputs": [],
   "source": [
    "df3 = df.copy()\n",
    "np.random.seed(44)\n",
    "subjects = df3['subject'].unique()\n",
    "half_size = len(subjects) // 2\n",
    "tags = np.array([0] * half_size + [1] * (len(subjects) - half_size))\n",
    "np.random.shuffle(tags)  # Shuffle to randomize the order\n",
    "subject_tags = dict(zip(subjects, tags))\n",
    "df3['tag'] = df3['subject'].map(subject_tags)\n",
    "df3['qorder'] = np.where(df3['question'] == df2['tag'], 0, 1)\n",
    "\n",
    "# subset subjects to receive the order effect\n",
    "proportion_with_effect = 0.35\n",
    "n_effect = int(proportion_with_effect * len(subjects))\n",
    "np.random.seed(99)\n",
    "subjects_with_effect = np.random.choice(subjects, size=n_effect, replace=False)\n",
    "subjects_with_effect = set(subjects_with_effect)\n",
    "\n",
    "# function to apply order effect only to some participants\n",
    "def shift_rt(row, shift=300, noise_sd=50):\n",
    "    if (\n",
    "        row['subject'] in subjects_with_effect and\n",
    "        row['modality'] == 'image' and\n",
    "        row['question'] == row['tag']\n",
    "    ):\n",
    "        return row['rt'] + shift + np.random.normal(0, noise_sd)\n",
    "    else:\n",
    "        return row['rt']\n",
    "\n",
    "# Apply order effect\n",
    "df3['rt'] = df3.apply(shift_rt, axis=1)\n",
    "df3.to_csv(\"wiscs_data_ordere_prop.csv\", index=False)"
   ]
  },
  {
   "cell_type": "code",
   "execution_count": null,
   "metadata": {},
   "outputs": [],
   "source": []
  }
 ],
 "metadata": {
  "kernelspec": {
   "display_name": "wiscs",
   "language": "python",
   "name": "python3"
  },
  "language_info": {
   "codemirror_mode": {
    "name": "ipython",
    "version": 3
   },
   "file_extension": ".py",
   "mimetype": "text/x-python",
   "name": "python",
   "nbconvert_exporter": "python",
   "pygments_lexer": "ipython3",
   "version": "3.12.0"
  }
 },
 "nbformat": 4,
 "nbformat_minor": 2
}
