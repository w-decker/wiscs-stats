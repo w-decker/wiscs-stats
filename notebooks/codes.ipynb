{
 "cells": [
  {
   "cell_type": "code",
   "execution_count": 1,
   "metadata": {},
   "outputs": [],
   "source": [
    "# If you have not installed `wiscs` locally, run this cell\n",
    "!pip install git+https://github.com/w-decker/wiscs.git --quiet # REQUIRED FOR THIS NOTEBOOK\n",
    "!pip install git+https://github.com/w-decker/rinterface.git --quiet # REQUIRED FOR THIS NOTEBOOK"
   ]
  },
  {
   "cell_type": "code",
   "execution_count": 2,
   "metadata": {},
   "outputs": [],
   "source": [
    "# always run this cell, no matter which method you choose\n",
    "import wiscs\n",
    "from wiscs.simulate import DataGenerator\n",
    "from wiscs.formula import Formula\n",
    "\n",
    "from rinterface.rinterface import rinterface as R\n",
    "from rinterface.utils import to_r\n",
    "\n",
    "import numpy as np\n",
    "import pandas as pd"
   ]
  },
  {
   "cell_type": "markdown",
   "metadata": {},
   "source": [
    "# Make baseline dataset"
   ]
  },
  {
   "cell_type": "code",
   "execution_count": 3,
   "metadata": {},
   "outputs": [],
   "source": [
    "np.random.seed(2027)\n",
    "\n",
    "n_subject = 8\n",
    "n_item = 30\n",
    "n_question = 2\n",
    "word_task = np.array([100, 100])\n",
    "hyp = \"shared\"\n",
    "if hyp == \"shared\":\n",
    "    image_task = np.array([100, 100])\n",
    "else:\n",
    "    image_task = np.array([100, 105])\n",
    "\n",
    "re_formula = Formula(\"(1 + question | subject) + (1 + question | item)\")\n",
    "question_sd = [10, 12, 15, 18, 11] # must be n_q - 1\n",
    "params = {'word.perceptual': 100, 'image.perceptual': 95, 'word.conceptual': 100, 'image.conceptual': 100, 'word.task': word_task, 'image.task': image_task,\n",
    "        # noise parameters     \n",
    "        'sd.item': 40,     'sd.question': question_sd[:n_question-1],    'sd.subject': 35,       \"sd.modality\": 30, \"sd.error\": 50, \"sd.re_formula\": str(re_formula),\n",
    "        # correlations among random effects    \n",
    "        \"corr.subject\": np.eye(n_question), 'corr.item':np.eye(n_question),\n",
    "        # design parameters\n",
    "        'n.subject': n_subject, 'n.question': n_question, 'n.item': n_item\n",
    "}\n",
    "wiscs.set_params(params, verbose=False)\n",
    "\n",
    "DG = DataGenerator()\n",
    "DG.fit_transform(seed=2027, verbose=False)\n",
    "df = DG.to_pandas()"
   ]
  },
  {
   "cell_type": "markdown",
   "metadata": {},
   "source": [
    "# Make `tag`\n",
    "`tag` is fully counterbalanced. \n",
    "\n",
    "`tag == 1` $\\rightarrow$ `Q1-I : Q2-I : Q1-W : Q2-W` \\\n",
    "`tag == 2` $\\rightarrow$ `Q2-I : Q1-I : Q2-W : Q1-W` \\\n",
    "`tag == 3` $\\rightarrow$ `Q2-W : Q1-W : Q2-I : Q1-I` \\\n",
    "`tag == 4` $\\rightarrow$ `Q1-W : Q2-W : Q1-I : Q2-I`"
   ]
  },
  {
   "cell_type": "code",
   "execution_count": 4,
   "metadata": {},
   "outputs": [],
   "source": [
    "group_tags = [1, 2, 3, 4]\n",
    "subject_ids = np.arange(n_subject)\n",
    "tags = np.tile(group_tags, int(n_subject / len(group_tags)))\n",
    "\n",
    "# In case n_subjects is not divisible by 4\n",
    "np.random.shuffle(tags)\n",
    "subject_tag_map = dict(zip(subject_ids, tags))\n",
    "df['tag'] = df['subject'].map(subject_tag_map)"
   ]
  },
  {
   "cell_type": "code",
   "execution_count": 5,
   "metadata": {},
   "outputs": [
    {
     "name": "stdout",
     "output_type": "stream",
     "text": [
      "Tag counts:\n",
      "tag\n",
      "1    240\n",
      "2    240\n",
      "3    240\n",
      "4    240\n",
      "Name: count, dtype: int64\n"
     ]
    }
   ],
   "source": [
    "# find how many subjects are in each tag\n",
    "tag_counts = df['tag'].value_counts().sort_index()\n",
    "print(\"Tag counts:\")\n",
    "print(tag_counts)"
   ]
  },
  {
   "cell_type": "markdown",
   "metadata": {},
   "source": [
    "# Make block order"
   ]
  },
  {
   "cell_type": "code",
   "execution_count": 6,
   "metadata": {},
   "outputs": [],
   "source": [
    "# function that is applied row-wise to create the block order variable\n",
    "\n",
    "def make_block_order(row):\n",
    "    tag = row['tag']\n",
    "    modality = row['modality']\n",
    "    question = row['question']\n",
    "\n",
    "    if tag == 1:\n",
    "        if modality == 'image' and question == 0: return 1\n",
    "        if modality == 'image' and question == 1: return 2\n",
    "        if modality == 'word' and question == 0: return 3\n",
    "        if modality == 'word' and question == 1: return 4\n",
    "\n",
    "    elif tag == 2:\n",
    "        if modality == 'image' and question == 0: return 2\n",
    "        if modality == 'image' and question == 1: return 1\n",
    "        if modality == 'word' and question == 0: return 4\n",
    "        if modality == 'word' and question == 1: return 3\n",
    "    \n",
    "    elif tag == 3:\n",
    "        if modality == 'image' and question == 0: return 3\n",
    "        if modality == 'image' and question == 1: return 4\n",
    "        if modality == 'word' and question == 0: return 1\n",
    "        if modality == 'word' and question == 1: return 2\n",
    "\n",
    "    elif tag == 4:\n",
    "        if modality == 'image' and question == 0: return 4\n",
    "        if modality == 'image' and question == 1: return 3\n",
    "        if modality == 'word' and question == 0: return 2\n",
    "        if modality == 'word' and question == 1: return 1\n",
    "    else:\n",
    "        raise ValueError(f\"Invalid tag: {tag}\")"
   ]
  },
  {
   "cell_type": "code",
   "execution_count": 7,
   "metadata": {},
   "outputs": [],
   "source": [
    "df['block_order'] = df.apply(make_block_order, axis=1)"
   ]
  },
  {
   "cell_type": "code",
   "execution_count": 8,
   "metadata": {},
   "outputs": [
    {
     "data": {
      "application/vnd.microsoft.datawrangler.viewer.v0+json": {
       "columns": [
        {
         "name": "index",
         "rawType": "int64",
         "type": "integer"
        },
        {
         "name": "subject",
         "rawType": "int64",
         "type": "integer"
        },
        {
         "name": "rt",
         "rawType": "float64",
         "type": "float"
        },
        {
         "name": "question",
         "rawType": "int64",
         "type": "integer"
        },
        {
         "name": "item",
         "rawType": "int64",
         "type": "integer"
        },
        {
         "name": "modality",
         "rawType": "object",
         "type": "string"
        },
        {
         "name": "tag",
         "rawType": "int64",
         "type": "integer"
        },
        {
         "name": "block_order",
         "rawType": "int64",
         "type": "integer"
        }
       ],
       "ref": "d0a7e3b7-ee5d-413a-9047-9976f6e7a59d",
       "rows": [
        [
         "0",
         "0",
         "293.94362153140287",
         "0",
         "0",
         "image",
         "2",
         "2"
        ],
        [
         "1",
         "0",
         "377.88869644944486",
         "0",
         "1",
         "image",
         "2",
         "2"
        ],
        [
         "2",
         "0",
         "329.1888920203462",
         "0",
         "2",
         "image",
         "2",
         "2"
        ],
        [
         "3",
         "0",
         "333.04823323123236",
         "0",
         "3",
         "image",
         "2",
         "2"
        ],
        [
         "4",
         "0",
         "276.6231428137435",
         "0",
         "4",
         "image",
         "2",
         "2"
        ]
       ],
       "shape": {
        "columns": 7,
        "rows": 5
       }
      },
      "text/html": [
       "<div>\n",
       "<style scoped>\n",
       "    .dataframe tbody tr th:only-of-type {\n",
       "        vertical-align: middle;\n",
       "    }\n",
       "\n",
       "    .dataframe tbody tr th {\n",
       "        vertical-align: top;\n",
       "    }\n",
       "\n",
       "    .dataframe thead th {\n",
       "        text-align: right;\n",
       "    }\n",
       "</style>\n",
       "<table border=\"1\" class=\"dataframe\">\n",
       "  <thead>\n",
       "    <tr style=\"text-align: right;\">\n",
       "      <th></th>\n",
       "      <th>subject</th>\n",
       "      <th>rt</th>\n",
       "      <th>question</th>\n",
       "      <th>item</th>\n",
       "      <th>modality</th>\n",
       "      <th>tag</th>\n",
       "      <th>block_order</th>\n",
       "    </tr>\n",
       "  </thead>\n",
       "  <tbody>\n",
       "    <tr>\n",
       "      <th>0</th>\n",
       "      <td>0</td>\n",
       "      <td>293.943622</td>\n",
       "      <td>0</td>\n",
       "      <td>0</td>\n",
       "      <td>image</td>\n",
       "      <td>2</td>\n",
       "      <td>2</td>\n",
       "    </tr>\n",
       "    <tr>\n",
       "      <th>1</th>\n",
       "      <td>0</td>\n",
       "      <td>377.888696</td>\n",
       "      <td>0</td>\n",
       "      <td>1</td>\n",
       "      <td>image</td>\n",
       "      <td>2</td>\n",
       "      <td>2</td>\n",
       "    </tr>\n",
       "    <tr>\n",
       "      <th>2</th>\n",
       "      <td>0</td>\n",
       "      <td>329.188892</td>\n",
       "      <td>0</td>\n",
       "      <td>2</td>\n",
       "      <td>image</td>\n",
       "      <td>2</td>\n",
       "      <td>2</td>\n",
       "    </tr>\n",
       "    <tr>\n",
       "      <th>3</th>\n",
       "      <td>0</td>\n",
       "      <td>333.048233</td>\n",
       "      <td>0</td>\n",
       "      <td>3</td>\n",
       "      <td>image</td>\n",
       "      <td>2</td>\n",
       "      <td>2</td>\n",
       "    </tr>\n",
       "    <tr>\n",
       "      <th>4</th>\n",
       "      <td>0</td>\n",
       "      <td>276.623143</td>\n",
       "      <td>0</td>\n",
       "      <td>4</td>\n",
       "      <td>image</td>\n",
       "      <td>2</td>\n",
       "      <td>2</td>\n",
       "    </tr>\n",
       "  </tbody>\n",
       "</table>\n",
       "</div>"
      ],
      "text/plain": [
       "   subject          rt  question  item modality  tag  block_order\n",
       "0        0  293.943622         0     0    image    2            2\n",
       "1        0  377.888696         0     1    image    2            2\n",
       "2        0  329.188892         0     2    image    2            2\n",
       "3        0  333.048233         0     3    image    2            2\n",
       "4        0  276.623143         0     4    image    2            2"
      ]
     },
     "execution_count": 8,
     "metadata": {},
     "output_type": "execute_result"
    }
   ],
   "source": [
    "df.head()"
   ]
  },
  {
   "cell_type": "markdown",
   "metadata": {},
   "source": [
    "# Test whether `block_order` is okay"
   ]
  },
  {
   "cell_type": "code",
   "execution_count": 45,
   "metadata": {},
   "outputs": [],
   "source": [
    "code = f\"\"\"\n",
    "\n",
    "\n",
    "suppressMessages(library(lme4))\n",
    "suppressMessages(library(lmerTest))\n",
    "suppressMessages(library(tidyverse))\n",
    "\n",
    "control <- lmerControl(optimizer = \"bobyqa\", check.conv.singular = \"ignore\") # suppress singular fit warnings\n",
    "\n",
    "all_data <- {to_r(df)} %>%\n",
    "  mutate(\n",
    "    question = as.factor(question),\n",
    "    subject = as.factor(subject),\n",
    "    item = as.factor(item),\n",
    "    tag = as.factor(tag),\n",
    "    modality = factor(modality, levels = c(\"word\", \"image\")), \n",
    "    block = as.factor(block_order)\n",
    "  )\n",
    "\n",
    "# set reference levels\n",
    "contrasts(all_data$modality) <- c(-0.5, 0.5)\n",
    "contrasts(all_data$question) <- c(-0.5, 0.5)\n",
    "contrasts(all_data$block) <- contr.sum(4)\n",
    "\n",
    "model <- lmer(rt ~ modality * question + block +\n",
    "                (1 + question | subject) +\n",
    "                (1 + question | item),\n",
    "              data = all_data, REML = FALSE, control = control)\n",
    "\n",
    "summary(model)\n",
    "\"\"\""
   ]
  },
  {
   "cell_type": "code",
   "execution_count": 46,
   "metadata": {},
   "outputs": [
    {
     "name": "stdout",
     "output_type": "stream",
     "text": [
      "Linear mixed model fit by maximum likelihood . t-tests use Satterthwaite's\n",
      "  method [lmerModLmerTest]\n",
      "Formula: rt ~ modality * question + block + (1 + question | subject) +  \n",
      "    (1 + question | item)\n",
      "   Data: all_data\n",
      "Control: control\n",
      "\n",
      "      AIC       BIC    logLik -2*log(L)  df.resid \n",
      "  10388.7   10456.8   -5180.3   10360.7       946 \n",
      "\n",
      "Scaled residuals: \n",
      "    Min      1Q  Median      3Q     Max \n",
      "-3.3872 -0.6673  0.0036  0.6397  3.1321 \n",
      "\n",
      "Random effects:\n",
      " Groups   Name        Variance Std.Dev. Corr \n",
      " item     (Intercept) 1785.8   42.26         \n",
      "          question1    276.2   16.62    0.13 \n",
      " subject  (Intercept)  955.2   30.91         \n",
      "          question1    116.0   10.77    -0.54\n",
      " Residual             2440.0   49.40         \n",
      "Number of obs: 960, groups:  item, 30; subject, 8\n",
      "\n",
      "Fixed effects:\n",
      "                    Estimate Std. Error      df t value Pr(>|t|)    \n",
      "(Intercept)          313.207     13.471  16.268  23.250 6.52e-14 ***\n",
      "modality1             -7.559      3.188 885.220  -2.371    0.018 *  \n",
      "question1             -8.623      5.820  10.480  -1.482    0.168    \n",
      "block1                 1.407      3.197  30.887   0.440    0.663    \n",
      "block2                -4.150      3.197  30.887  -1.298    0.204    \n",
      "block3                 6.165      3.197  30.887   1.928    0.063 .  \n",
      "modality1:question1   -2.065      6.377 885.220  -0.324    0.746    \n",
      "---\n",
      "Signif. codes:  0 ‘***’ 0.001 ‘**’ 0.01 ‘*’ 0.05 ‘.’ 0.1 ‘ ’ 1\n",
      "\n",
      "Correlation of Fixed Effects:\n",
      "            (Intr) mdlty1 qustn1 block1 block2 block3\n",
      "modality1    0.000                                   \n",
      "question1   -0.247  0.000                            \n",
      "block1       0.000  0.000  0.000                     \n",
      "block2       0.000  0.000  0.000 -0.503              \n",
      "block3       0.000  0.000  0.000  0.005 -0.503       \n",
      "mdlty1:qst1  0.000  0.000  0.000  0.000  0.000  0.000\n"
     ]
    }
   ],
   "source": [
    "R(code)"
   ]
  },
  {
   "cell_type": "markdown",
   "metadata": {},
   "source": [
    "So no rank-deficient warnings!"
   ]
  },
  {
   "cell_type": "markdown",
   "metadata": {},
   "source": [
    "# Make question order"
   ]
  },
  {
   "cell_type": "code",
   "execution_count": 9,
   "metadata": {},
   "outputs": [],
   "source": [
    "# function that is applied row-wise to create `question_order` variable\n",
    "\n",
    "def make_question_order(row):\n",
    "    tag = row['tag']\n",
    "    question = row['question']\n",
    "\n",
    "    if tag == 1:\n",
    "        if question == 0: return 1\n",
    "        if question == 1: return 2\n",
    "    elif tag == 2:\n",
    "        if question == 0: return 2\n",
    "        if question == 1: return 1\n",
    "    elif tag == 3:\n",
    "        if question == 0: return 2\n",
    "        if question == 1: return 1\n",
    "    elif tag == 4:\n",
    "        if question == 0: return 1\n",
    "        if question == 1: return 2"
   ]
  },
  {
   "cell_type": "code",
   "execution_count": 10,
   "metadata": {},
   "outputs": [],
   "source": [
    "df ['question_order'] = df.apply(make_question_order, axis=1)"
   ]
  },
  {
   "cell_type": "code",
   "execution_count": 11,
   "metadata": {},
   "outputs": [
    {
     "data": {
      "application/vnd.microsoft.datawrangler.viewer.v0+json": {
       "columns": [
        {
         "name": "index",
         "rawType": "int64",
         "type": "integer"
        },
        {
         "name": "subject",
         "rawType": "int64",
         "type": "integer"
        },
        {
         "name": "rt",
         "rawType": "float64",
         "type": "float"
        },
        {
         "name": "question",
         "rawType": "int64",
         "type": "integer"
        },
        {
         "name": "item",
         "rawType": "int64",
         "type": "integer"
        },
        {
         "name": "modality",
         "rawType": "object",
         "type": "string"
        },
        {
         "name": "tag",
         "rawType": "int64",
         "type": "integer"
        },
        {
         "name": "block_order",
         "rawType": "int64",
         "type": "integer"
        },
        {
         "name": "question_order",
         "rawType": "int64",
         "type": "integer"
        }
       ],
       "ref": "7a2af2ce-cf57-4fb7-9a04-4a09e433572d",
       "rows": [
        [
         "0",
         "0",
         "293.94362153140287",
         "0",
         "0",
         "image",
         "2",
         "2",
         "2"
        ],
        [
         "1",
         "0",
         "377.88869644944486",
         "0",
         "1",
         "image",
         "2",
         "2",
         "2"
        ],
        [
         "2",
         "0",
         "329.1888920203462",
         "0",
         "2",
         "image",
         "2",
         "2",
         "2"
        ],
        [
         "3",
         "0",
         "333.04823323123236",
         "0",
         "3",
         "image",
         "2",
         "2",
         "2"
        ],
        [
         "4",
         "0",
         "276.6231428137435",
         "0",
         "4",
         "image",
         "2",
         "2",
         "2"
        ]
       ],
       "shape": {
        "columns": 8,
        "rows": 5
       }
      },
      "text/html": [
       "<div>\n",
       "<style scoped>\n",
       "    .dataframe tbody tr th:only-of-type {\n",
       "        vertical-align: middle;\n",
       "    }\n",
       "\n",
       "    .dataframe tbody tr th {\n",
       "        vertical-align: top;\n",
       "    }\n",
       "\n",
       "    .dataframe thead th {\n",
       "        text-align: right;\n",
       "    }\n",
       "</style>\n",
       "<table border=\"1\" class=\"dataframe\">\n",
       "  <thead>\n",
       "    <tr style=\"text-align: right;\">\n",
       "      <th></th>\n",
       "      <th>subject</th>\n",
       "      <th>rt</th>\n",
       "      <th>question</th>\n",
       "      <th>item</th>\n",
       "      <th>modality</th>\n",
       "      <th>tag</th>\n",
       "      <th>block_order</th>\n",
       "      <th>question_order</th>\n",
       "    </tr>\n",
       "  </thead>\n",
       "  <tbody>\n",
       "    <tr>\n",
       "      <th>0</th>\n",
       "      <td>0</td>\n",
       "      <td>293.943622</td>\n",
       "      <td>0</td>\n",
       "      <td>0</td>\n",
       "      <td>image</td>\n",
       "      <td>2</td>\n",
       "      <td>2</td>\n",
       "      <td>2</td>\n",
       "    </tr>\n",
       "    <tr>\n",
       "      <th>1</th>\n",
       "      <td>0</td>\n",
       "      <td>377.888696</td>\n",
       "      <td>0</td>\n",
       "      <td>1</td>\n",
       "      <td>image</td>\n",
       "      <td>2</td>\n",
       "      <td>2</td>\n",
       "      <td>2</td>\n",
       "    </tr>\n",
       "    <tr>\n",
       "      <th>2</th>\n",
       "      <td>0</td>\n",
       "      <td>329.188892</td>\n",
       "      <td>0</td>\n",
       "      <td>2</td>\n",
       "      <td>image</td>\n",
       "      <td>2</td>\n",
       "      <td>2</td>\n",
       "      <td>2</td>\n",
       "    </tr>\n",
       "    <tr>\n",
       "      <th>3</th>\n",
       "      <td>0</td>\n",
       "      <td>333.048233</td>\n",
       "      <td>0</td>\n",
       "      <td>3</td>\n",
       "      <td>image</td>\n",
       "      <td>2</td>\n",
       "      <td>2</td>\n",
       "      <td>2</td>\n",
       "    </tr>\n",
       "    <tr>\n",
       "      <th>4</th>\n",
       "      <td>0</td>\n",
       "      <td>276.623143</td>\n",
       "      <td>0</td>\n",
       "      <td>4</td>\n",
       "      <td>image</td>\n",
       "      <td>2</td>\n",
       "      <td>2</td>\n",
       "      <td>2</td>\n",
       "    </tr>\n",
       "  </tbody>\n",
       "</table>\n",
       "</div>"
      ],
      "text/plain": [
       "   subject          rt  question  item modality  tag  block_order  \\\n",
       "0        0  293.943622         0     0    image    2            2   \n",
       "1        0  377.888696         0     1    image    2            2   \n",
       "2        0  329.188892         0     2    image    2            2   \n",
       "3        0  333.048233         0     3    image    2            2   \n",
       "4        0  276.623143         0     4    image    2            2   \n",
       "\n",
       "   question_order  \n",
       "0               2  \n",
       "1               2  \n",
       "2               2  \n",
       "3               2  \n",
       "4               2  "
      ]
     },
     "execution_count": 11,
     "metadata": {},
     "output_type": "execute_result"
    }
   ],
   "source": [
    "df.head()"
   ]
  },
  {
   "cell_type": "markdown",
   "metadata": {},
   "source": [
    "# Test whether `question_order` is okay"
   ]
  },
  {
   "cell_type": "code",
   "execution_count": null,
   "metadata": {},
   "outputs": [],
   "source": [
    "code = f\"\"\"\n",
    "\n",
    "suppressMessages(library(lme4))\n",
    "suppressMessages(library(lmerTest))\n",
    "suppressMessages(library(tidyverse))\n",
    "\n",
    "control <- lmerControl(optimizer = \"bobyqa\", check.conv.singular = \"ignore\") # suppress singular fit warnings\n",
    "\n",
    "all_data <- {to_r(df)} %>%\n",
    "  mutate(\n",
    "    question = as.factor(question),\n",
    "    subject = as.factor(subject),\n",
    "    item = as.factor(item),\n",
    "    tag = as.factor(tag),\n",
    "    modality = factor(modality, levels = c(\"word\", \"image\")), \n",
    "    block = as.factor(block_order),\n",
    "    question_order = as.factor(question_order)\n",
    "  )\n",
    "\n",
    "# set reference levels\n",
    "contrasts(all_data$modality) <- c(-0.5, 0.5)\n",
    "contrasts(all_data$question) <- c(-0.5, 0.5)\n",
    "contrasts(all_data$block) <- contr.sum(4)\n",
    "contrasts(all_data$question_order) <- c(-0.5, 0.5)\n",
    "\n",
    "model <- lmer(rt ~ modality * question + question_order +\n",
    "                (1 + question | subject) +\n",
    "                (1 + question | item),\n",
    "              data = all_data, REML = FALSE, control = control)\n",
    "\n",
    "summary(model)\n",
    "\n",
    "# print(model.matrix(model))\n",
    "\"\"\""
   ]
  },
  {
   "cell_type": "code",
   "execution_count": 57,
   "metadata": {},
   "outputs": [
    {
     "name": "stdout",
     "output_type": "stream",
     "text": [
      "Linear mixed model fit by maximum likelihood . t-tests use Satterthwaite's\n",
      "  method [lmerModLmerTest]\n",
      "Formula: rt ~ modality * question + block + question_order + (1 + question |  \n",
      "    subject) + (1 + question | item)\n",
      "   Data: all_data\n",
      "Control: control\n",
      "\n",
      "      AIC       BIC    logLik -2*log(L)  df.resid \n",
      "  10390.5   10463.5   -5180.3   10360.5       945 \n",
      "\n",
      "Scaled residuals: \n",
      "    Min      1Q  Median      3Q     Max \n",
      "-3.3809 -0.6708  0.0028  0.6355  3.1433 \n",
      "\n",
      "Random effects:\n",
      " Groups   Name        Variance Std.Dev. Corr \n",
      " item     (Intercept) 1786.86  42.271        \n",
      "          question1    275.81  16.607   0.13 \n",
      " subject  (Intercept)  956.18  30.922        \n",
      "          question1     97.97   9.898   -0.43\n",
      " Residual             2439.99  49.396        \n",
      "Number of obs: 960, groups:  item, 30; subject, 8\n",
      "\n",
      "Fixed effects:\n",
      "                    Estimate Std. Error       df t value Pr(>|t|)    \n",
      "(Intercept)         313.2072    13.4769  16.2499  23.240 6.73e-14 ***\n",
      "modality1            -7.5590     3.1885 885.1872  -2.371   0.0180 *  \n",
      "question1            -8.6233     5.6220  10.5107  -1.534   0.1546    \n",
      "block1                0.9015     3.1814  31.5214   0.283   0.7787    \n",
      "block2               -3.6448     3.1814  31.5214  -1.146   0.2606    \n",
      "block3                5.6594     3.1814  31.5214   1.779   0.0849 .  \n",
      "question_order1      -2.1170     4.4890   7.8763  -0.472   0.6500    \n",
      "modality1:question1  -2.0651     6.3770 885.1872  -0.324   0.7461    \n",
      "---\n",
      "Signif. codes:  0 ‘***’ 0.001 ‘**’ 0.01 ‘*’ 0.05 ‘.’ 0.1 ‘ ’ 1\n",
      "\n",
      "Correlation of Fixed Effects:\n",
      "            (Intr) mdlty1 qustn1 block1 block2 block3 qstn_1\n",
      "modality1    0.000                                          \n",
      "question1   -0.178  0.000                                   \n",
      "block1       0.000  0.000  0.000                            \n",
      "block2       0.000  0.000  0.000 -0.498                     \n",
      "block3       0.000  0.000  0.000 -0.005 -0.498              \n",
      "questn_rdr1  0.000  0.000  0.000  0.000  0.000  0.000       \n",
      "mdlty1:qst1  0.000  0.000  0.000  0.000  0.000  0.000  0.000\n",
      "$linearCombos\n",
      "list()\n",
      "\n",
      "$remove\n",
      "NULL\n",
      "\n"
     ]
    }
   ],
   "source": [
    "R(code)"
   ]
  },
  {
   "cell_type": "markdown",
   "metadata": {},
   "source": [
    "So `question_order` works alone! Let's try `question_order:modality` term."
   ]
  },
  {
   "cell_type": "code",
   "execution_count": null,
   "metadata": {},
   "outputs": [],
   "source": [
    "code = f\"\"\"\n",
    "\n",
    "suppressMessages(library(lme4))\n",
    "suppressMessages(library(lmerTest))\n",
    "suppressMessages(library(tidyverse))\n",
    "\n",
    "control <- lmerControl(optimizer = \"bobyqa\", check.conv.singular = \"ignore\") # suppress singular fit warnings\n",
    "\n",
    "all_data <- {to_r(df)} %>%\n",
    "  mutate(\n",
    "    question = as.factor(question),\n",
    "    subject = as.factor(subject),\n",
    "    item = as.factor(item),\n",
    "    tag = as.factor(tag),\n",
    "    modality = factor(modality, levels = c(\"word\", \"image\")), \n",
    "    block = as.factor(block_order),\n",
    "    question_order = as.factor(question_order)\n",
    "  )\n",
    "\n",
    "# set reference levels\n",
    "contrasts(all_data$modality) <- c(-0.5, 0.5)\n",
    "contrasts(all_data$question) <- c(-0.5, 0.5)\n",
    "contrasts(all_data$block) <- contr.sum(4)\n",
    "contrasts(all_data$question_order) <- c(-0.5, 0.5)\n",
    "\n",
    "model <- lmer(rt ~ modality * question  + question_order:modality +\n",
    "                (1 + question | subject) +\n",
    "                (1 + question | item),\n",
    "              data = all_data, REML = FALSE, control = control)\n",
    "\n",
    "summary(model)\n",
    "\n",
    "# print(model.matrix(model))\n",
    "\"\"\""
   ]
  },
  {
   "cell_type": "code",
   "execution_count": 60,
   "metadata": {},
   "outputs": [
    {
     "name": "stdout",
     "output_type": "stream",
     "text": [
      "Linear mixed model fit by maximum likelihood . t-tests use Satterthwaite's\n",
      "  method [lmerModLmerTest]\n",
      "Formula: rt ~ modality * question + block + question_order:modality +  \n",
      "    (1 + question | subject) + (1 + question | item)\n",
      "   Data: all_data\n",
      "Control: control\n",
      "\n",
      "      AIC       BIC    logLik -2*log(L)  df.resid \n",
      "  10390.5   10463.5   -5180.3   10360.5       945 \n",
      "\n",
      "Scaled residuals: \n",
      "    Min      1Q  Median      3Q     Max \n",
      "-3.3809 -0.6708  0.0028  0.6355  3.1433 \n",
      "\n",
      "Random effects:\n",
      " Groups   Name        Variance Std.Dev. Corr \n",
      " item     (Intercept) 1786.86  42.271        \n",
      "          question1    275.81  16.607   0.13 \n",
      " subject  (Intercept)  956.18  30.922        \n",
      "          question1     97.97   9.898   -0.43\n",
      " Residual             2439.99  49.396        \n",
      "Number of obs: 960, groups:  item, 30; subject, 8\n",
      "\n",
      "Fixed effects:\n",
      "                             Estimate Std. Error      df t value Pr(>|t|)    \n",
      "(Intercept)                   313.207     13.477  16.250  23.240 6.73e-14 ***\n",
      "modality1                      -7.559      3.189 885.187  -2.371    0.018 *  \n",
      "question1                      -8.623      5.622  10.511  -1.534    0.155    \n",
      "block1                          1.960      3.893  17.793   0.503    0.621    \n",
      "block2                         -4.703      3.893  17.793  -1.208    0.243    \n",
      "block3                          4.601      3.893  17.793   1.182    0.253    \n",
      "modality1:question1            -2.065      6.377 885.187  -0.324    0.746    \n",
      "modalityword:question_order1   -4.234      8.978   7.876  -0.472    0.650    \n",
      "---\n",
      "Signif. codes:  0 ‘***’ 0.001 ‘**’ 0.01 ‘*’ 0.05 ‘.’ 0.1 ‘ ’ 1\n",
      "\n",
      "Correlation of Fixed Effects:\n",
      "            (Intr) mdlty1 qustn1 block1 block2 block3 mdl1:1\n",
      "modality1    0.000                                          \n",
      "question1   -0.178  0.000                                   \n",
      "block1       0.000  0.000  0.000                            \n",
      "block2       0.000  0.000  0.000 -0.665                     \n",
      "block3       0.000  0.000  0.000 -0.335  0.000              \n",
      "mdlty1:qst1  0.000  0.000  0.000  0.000  0.000  0.000       \n",
      "mdltywrd:_1  0.000  0.000  0.000 -0.576  0.576  0.576  0.000\n",
      "fit warnings:\n",
      "fixed-effect model matrix is rank deficient so dropping 1 column / coefficient\n"
     ]
    },
    {
     "name": "stderr",
     "output_type": "stream",
     "text": [
      "fixed-effect model matrix is rank deficient so dropping 1 column / coefficient\n",
      "fixed-effect model matrix is rank deficient so dropping 1 column / coefficient\n"
     ]
    }
   ],
   "source": [
    "R(code)"
   ]
  },
  {
   "cell_type": "markdown",
   "metadata": {},
   "source": [
    "The `question:modality` interaction term does not work and introduces rank-deficient warnings."
   ]
  },
  {
   "cell_type": "markdown",
   "metadata": {},
   "source": [
    "# Let's try `block_order` _and_ `question_order` at the same time"
   ]
  },
  {
   "cell_type": "code",
   "execution_count": 68,
   "metadata": {},
   "outputs": [],
   "source": [
    "code = f\"\"\"\n",
    "\n",
    "suppressMessages(library(lme4))\n",
    "suppressMessages(library(lmerTest))\n",
    "suppressMessages(library(tidyverse))\n",
    "\n",
    "control <- lmerControl(optimizer = \"bobyqa\", check.conv.singular = \"ignore\") # suppress singular fit warnings\n",
    "\n",
    "all_data <- {to_r(df)} %>%\n",
    "  mutate(\n",
    "    question = as.factor(question),\n",
    "    subject = as.factor(subject),\n",
    "    item = as.factor(item),\n",
    "    tag = as.factor(tag),\n",
    "    modality = factor(modality, levels = c(\"word\", \"image\")), \n",
    "    block = as.factor(block_order),\n",
    "    question_order = as.factor(question_order)\n",
    "  )\n",
    "\n",
    "# set reference levels\n",
    "contrasts(all_data$modality) <- c(-0.5, 0.5)\n",
    "contrasts(all_data$question) <- c(-0.5, 0.5)\n",
    "contrasts(all_data$block) <- contr.sum(4)\n",
    "contrasts(all_data$question_order) <- c(-0.5, 0.5)\n",
    "\n",
    "model <- lmer(rt ~ modality * question + block + question_order +\n",
    "                (1 + question | subject) +\n",
    "                (1 + question | item),\n",
    "              data = all_data, REML = FALSE, control = control)\n",
    "\n",
    "summary(model)\n",
    "\n",
    "# print(model.matrix(model))\n",
    "\"\"\""
   ]
  },
  {
   "cell_type": "code",
   "execution_count": 69,
   "metadata": {},
   "outputs": [
    {
     "name": "stdout",
     "output_type": "stream",
     "text": [
      "Linear mixed model fit by maximum likelihood . t-tests use Satterthwaite's\n",
      "  method [lmerModLmerTest]\n",
      "Formula: rt ~ modality * question + block + question_order + (1 + question |  \n",
      "    subject) + (1 + question | item)\n",
      "   Data: all_data\n",
      "Control: control\n",
      "\n",
      "      AIC       BIC    logLik -2*log(L)  df.resid \n",
      "  10390.5   10463.5   -5180.3   10360.5       945 \n",
      "\n",
      "Scaled residuals: \n",
      "    Min      1Q  Median      3Q     Max \n",
      "-3.3809 -0.6708  0.0028  0.6355  3.1433 \n",
      "\n",
      "Random effects:\n",
      " Groups   Name        Variance Std.Dev. Corr \n",
      " item     (Intercept) 1786.86  42.271        \n",
      "          question1    275.81  16.607   0.13 \n",
      " subject  (Intercept)  956.18  30.922        \n",
      "          question1     97.97   9.898   -0.43\n",
      " Residual             2439.99  49.396        \n",
      "Number of obs: 960, groups:  item, 30; subject, 8\n",
      "\n",
      "Fixed effects:\n",
      "                    Estimate Std. Error       df t value Pr(>|t|)    \n",
      "(Intercept)         313.2072    13.4769  16.2499  23.240 6.73e-14 ***\n",
      "modality1            -7.5590     3.1885 885.1872  -2.371   0.0180 *  \n",
      "question1            -8.6233     5.6220  10.5107  -1.534   0.1546    \n",
      "block1                0.9015     3.1814  31.5214   0.283   0.7787    \n",
      "block2               -3.6448     3.1814  31.5214  -1.146   0.2606    \n",
      "block3                5.6594     3.1814  31.5214   1.779   0.0849 .  \n",
      "question_order1      -2.1170     4.4890   7.8763  -0.472   0.6500    \n",
      "modality1:question1  -2.0651     6.3770 885.1872  -0.324   0.7461    \n",
      "---\n",
      "Signif. codes:  0 ‘***’ 0.001 ‘**’ 0.01 ‘*’ 0.05 ‘.’ 0.1 ‘ ’ 1\n",
      "\n",
      "Correlation of Fixed Effects:\n",
      "            (Intr) mdlty1 qustn1 block1 block2 block3 qstn_1\n",
      "modality1    0.000                                          \n",
      "question1   -0.178  0.000                                   \n",
      "block1       0.000  0.000  0.000                            \n",
      "block2       0.000  0.000  0.000 -0.498                     \n",
      "block3       0.000  0.000  0.000 -0.005 -0.498              \n",
      "questn_rdr1  0.000  0.000  0.000  0.000  0.000  0.000       \n",
      "mdlty1:qst1  0.000  0.000  0.000  0.000  0.000  0.000  0.000\n"
     ]
    }
   ],
   "source": [
    "R(code)"
   ]
  },
  {
   "cell_type": "markdown",
   "metadata": {},
   "source": [
    "Everything works here!"
   ]
  },
  {
   "cell_type": "markdown",
   "metadata": {},
   "source": [
    "# Let's try modality order"
   ]
  },
  {
   "cell_type": "code",
   "execution_count": 12,
   "metadata": {},
   "outputs": [
    {
     "data": {
      "application/vnd.microsoft.datawrangler.viewer.v0+json": {
       "columns": [
        {
         "name": "index",
         "rawType": "int64",
         "type": "integer"
        },
        {
         "name": "subject",
         "rawType": "int64",
         "type": "integer"
        },
        {
         "name": "rt",
         "rawType": "float64",
         "type": "float"
        },
        {
         "name": "question",
         "rawType": "int64",
         "type": "integer"
        },
        {
         "name": "item",
         "rawType": "int64",
         "type": "integer"
        },
        {
         "name": "modality",
         "rawType": "object",
         "type": "string"
        },
        {
         "name": "tag",
         "rawType": "int64",
         "type": "integer"
        },
        {
         "name": "block_order",
         "rawType": "int64",
         "type": "integer"
        },
        {
         "name": "question_order",
         "rawType": "int64",
         "type": "integer"
        },
        {
         "name": "modality_order",
         "rawType": "int64",
         "type": "integer"
        }
       ],
       "ref": "b0576f2b-9ceb-4448-8e27-910177e01cce",
       "rows": [
        [
         "0",
         "0",
         "293.94362153140287",
         "0",
         "0",
         "image",
         "2",
         "2",
         "2",
         "1"
        ],
        [
         "1",
         "0",
         "377.88869644944486",
         "0",
         "1",
         "image",
         "2",
         "2",
         "2",
         "1"
        ],
        [
         "2",
         "0",
         "329.1888920203462",
         "0",
         "2",
         "image",
         "2",
         "2",
         "2",
         "1"
        ],
        [
         "3",
         "0",
         "333.04823323123236",
         "0",
         "3",
         "image",
         "2",
         "2",
         "2",
         "1"
        ],
        [
         "4",
         "0",
         "276.6231428137435",
         "0",
         "4",
         "image",
         "2",
         "2",
         "2",
         "1"
        ]
       ],
       "shape": {
        "columns": 9,
        "rows": 5
       }
      },
      "text/html": [
       "<div>\n",
       "<style scoped>\n",
       "    .dataframe tbody tr th:only-of-type {\n",
       "        vertical-align: middle;\n",
       "    }\n",
       "\n",
       "    .dataframe tbody tr th {\n",
       "        vertical-align: top;\n",
       "    }\n",
       "\n",
       "    .dataframe thead th {\n",
       "        text-align: right;\n",
       "    }\n",
       "</style>\n",
       "<table border=\"1\" class=\"dataframe\">\n",
       "  <thead>\n",
       "    <tr style=\"text-align: right;\">\n",
       "      <th></th>\n",
       "      <th>subject</th>\n",
       "      <th>rt</th>\n",
       "      <th>question</th>\n",
       "      <th>item</th>\n",
       "      <th>modality</th>\n",
       "      <th>tag</th>\n",
       "      <th>block_order</th>\n",
       "      <th>question_order</th>\n",
       "      <th>modality_order</th>\n",
       "    </tr>\n",
       "  </thead>\n",
       "  <tbody>\n",
       "    <tr>\n",
       "      <th>0</th>\n",
       "      <td>0</td>\n",
       "      <td>293.943622</td>\n",
       "      <td>0</td>\n",
       "      <td>0</td>\n",
       "      <td>image</td>\n",
       "      <td>2</td>\n",
       "      <td>2</td>\n",
       "      <td>2</td>\n",
       "      <td>1</td>\n",
       "    </tr>\n",
       "    <tr>\n",
       "      <th>1</th>\n",
       "      <td>0</td>\n",
       "      <td>377.888696</td>\n",
       "      <td>0</td>\n",
       "      <td>1</td>\n",
       "      <td>image</td>\n",
       "      <td>2</td>\n",
       "      <td>2</td>\n",
       "      <td>2</td>\n",
       "      <td>1</td>\n",
       "    </tr>\n",
       "    <tr>\n",
       "      <th>2</th>\n",
       "      <td>0</td>\n",
       "      <td>329.188892</td>\n",
       "      <td>0</td>\n",
       "      <td>2</td>\n",
       "      <td>image</td>\n",
       "      <td>2</td>\n",
       "      <td>2</td>\n",
       "      <td>2</td>\n",
       "      <td>1</td>\n",
       "    </tr>\n",
       "    <tr>\n",
       "      <th>3</th>\n",
       "      <td>0</td>\n",
       "      <td>333.048233</td>\n",
       "      <td>0</td>\n",
       "      <td>3</td>\n",
       "      <td>image</td>\n",
       "      <td>2</td>\n",
       "      <td>2</td>\n",
       "      <td>2</td>\n",
       "      <td>1</td>\n",
       "    </tr>\n",
       "    <tr>\n",
       "      <th>4</th>\n",
       "      <td>0</td>\n",
       "      <td>276.623143</td>\n",
       "      <td>0</td>\n",
       "      <td>4</td>\n",
       "      <td>image</td>\n",
       "      <td>2</td>\n",
       "      <td>2</td>\n",
       "      <td>2</td>\n",
       "      <td>1</td>\n",
       "    </tr>\n",
       "  </tbody>\n",
       "</table>\n",
       "</div>"
      ],
      "text/plain": [
       "   subject          rt  question  item modality  tag  block_order  \\\n",
       "0        0  293.943622         0     0    image    2            2   \n",
       "1        0  377.888696         0     1    image    2            2   \n",
       "2        0  329.188892         0     2    image    2            2   \n",
       "3        0  333.048233         0     3    image    2            2   \n",
       "4        0  276.623143         0     4    image    2            2   \n",
       "\n",
       "   question_order  modality_order  \n",
       "0               2               1  \n",
       "1               2               1  \n",
       "2               2               1  \n",
       "3               2               1  \n",
       "4               2               1  "
      ]
     },
     "execution_count": 12,
     "metadata": {},
     "output_type": "execute_result"
    }
   ],
   "source": [
    "# function that is applied row-wise to create `modality_order` variable\n",
    "\n",
    "def make_modality_order(row):\n",
    "    tag = row['tag']\n",
    "    modality = row['modality']\n",
    "\n",
    "    if tag == 1:\n",
    "        if modality == 'image': return 1\n",
    "        if modality == 'word': return 2\n",
    "    elif tag == 2:\n",
    "        if modality == 'image': return 1\n",
    "        if modality == 'word': return 2\n",
    "    elif tag == 3:\n",
    "        if modality == 'image': return 2\n",
    "        if modality == 'word': return 1\n",
    "    elif tag == 4:\n",
    "        if modality == 'image': return 2\n",
    "        if modality == 'word': return 1\n",
    "\n",
    "df['modality_order'] = df.apply(make_modality_order, axis=1)\n",
    "df.head()"
   ]
  },
  {
   "cell_type": "markdown",
   "metadata": {},
   "source": [
    "# Does this work?"
   ]
  },
  {
   "cell_type": "code",
   "execution_count": 13,
   "metadata": {},
   "outputs": [],
   "source": [
    "code = f\"\"\"\n",
    "\n",
    "suppressMessages(library(lme4))\n",
    "suppressMessages(library(lmerTest))\n",
    "suppressMessages(library(tidyverse))\n",
    "\n",
    "control <- lmerControl(optimizer = \"bobyqa\", check.conv.singular = \"ignore\") # suppress singular fit warnings\n",
    "\n",
    "all_data <- {to_r(df)} %>%\n",
    "  mutate(\n",
    "    question = as.factor(question),\n",
    "    subject = as.factor(subject),\n",
    "    item = as.factor(item),\n",
    "    tag = as.factor(tag),\n",
    "    modality = factor(modality, levels = c(\"word\", \"image\")), \n",
    "    block = as.factor(block_order),\n",
    "    question_order = as.factor(question_order),\n",
    "    modality_order = as.factor(modality_order)\n",
    "  )\n",
    "\n",
    "# set reference levels\n",
    "contrasts(all_data$modality) <- c(-0.5, 0.5)\n",
    "contrasts(all_data$question) <- c(-0.5, 0.5)\n",
    "contrasts(all_data$block) <- contr.sum(4)\n",
    "contrasts(all_data$question_order) <- c(-0.5, 0.5)\n",
    "contrasts(all_data$modality_order) <- c(-0.5, 0.5)\n",
    "\n",
    "model <- lmer(rt ~ modality * question + modality_order +\n",
    "                (1 + question | subject) +\n",
    "                (1 + question | item),\n",
    "              data = all_data, REML = FALSE, control = control)\n",
    "\n",
    "summary(model)\n",
    "\n",
    "# print(model.matrix(model))\n",
    "\"\"\""
   ]
  },
  {
   "cell_type": "code",
   "execution_count": 14,
   "metadata": {},
   "outputs": [
    {
     "name": "stdout",
     "output_type": "stream",
     "text": [
      "Linear mixed model fit by maximum likelihood . t-tests use Satterthwaite's\n",
      "  method [lmerModLmerTest]\n",
      "Formula: \n",
      "rt ~ modality * question + modality_order + (1 + question | subject) +  \n",
      "    (1 + question | item)\n",
      "   Data: all_data\n",
      "Control: control\n",
      "\n",
      "      AIC       BIC    logLik -2*log(L)  df.resid \n",
      "  10386.4   10444.8   -5181.2   10362.4       948 \n",
      "\n",
      "Scaled residuals: \n",
      "    Min      1Q  Median      3Q     Max \n",
      "-3.3984 -0.6684 -0.0035  0.6560  3.0881 \n",
      "\n",
      "Random effects:\n",
      " Groups   Name        Variance Std.Dev. Corr \n",
      " item     (Intercept) 1788.6   42.29         \n",
      "          question1    277.1   16.65    0.14 \n",
      " subject  (Intercept)  957.8   30.95         \n",
      "          question1    114.7   10.71    -0.05\n",
      " Residual             2441.0   49.41         \n",
      "Number of obs: 960, groups:  item, 30; subject, 8\n",
      "\n",
      "Fixed effects:\n",
      "                    Estimate Std. Error      df t value Pr(>|t|)    \n",
      "(Intercept)          313.207     13.487  16.219  23.223 7.09e-14 ***\n",
      "modality1             -7.559      3.189 885.271  -2.370    0.018 *  \n",
      "question1             -8.623      5.809  12.613  -1.485    0.162    \n",
      "modality_order1        2.743      3.189 885.271   0.860    0.390    \n",
      "modality1:question1   -2.065      6.378 885.271  -0.324    0.746    \n",
      "---\n",
      "Signif. codes:  0 ‘***’ 0.001 ‘**’ 0.01 ‘*’ 0.05 ‘.’ 0.1 ‘ ’ 1\n",
      "\n",
      "Correlation of Fixed Effects:\n",
      "            (Intr) mdlty1 qustn1 mdlt_1\n",
      "modality1   0.000                      \n",
      "question1   0.014  0.000               \n",
      "modlty_rdr1 0.000  0.000  0.000        \n",
      "mdlty1:qst1 0.000  0.000  0.000  0.000 \n"
     ]
    }
   ],
   "source": [
    "R(code)"
   ]
  },
  {
   "cell_type": "markdown",
   "metadata": {},
   "source": [
    "# `question_order * modality_order`"
   ]
  },
  {
   "cell_type": "code",
   "execution_count": 23,
   "metadata": {},
   "outputs": [],
   "source": [
    "code = f\"\"\"\n",
    "\n",
    "suppressMessages(library(lme4))\n",
    "suppressMessages(library(lmerTest))\n",
    "suppressMessages(library(tidyverse))\n",
    "\n",
    "control <- lmerControl(optimizer = \"bobyqa\", check.conv.singular = \"ignore\") # suppress singular fit warnings\n",
    "\n",
    "all_data <- {to_r(df)} %>%\n",
    "  mutate(\n",
    "    question = as.factor(question),\n",
    "    subject = as.factor(subject),\n",
    "    item = as.factor(item),\n",
    "    tag = as.factor(tag),\n",
    "    modality = factor(modality, levels = c(\"word\", \"image\")), \n",
    "    block = as.factor(block_order),\n",
    "    question_order = as.factor(question_order),\n",
    "    modality_order = as.factor(modality_order)\n",
    "  )\n",
    "\n",
    "# set reference levels\n",
    "contrasts(all_data$modality) <- c(-0.5, 0.5)\n",
    "contrasts(all_data$question) <- c(-0.5, 0.5)\n",
    "contrasts(all_data$block) <- contr.sum(4)\n",
    "contrasts(all_data$question_order) <- c(-0.5, 0.5)\n",
    "contrasts(all_data$modality_order) <- c(-0.5, 0.5)\n",
    "\n",
    "model <- lmer(rt ~ modality * question + modality_order * question_order +\n",
    "                (1 + question | subject) +\n",
    "                (1 + question | item),\n",
    "              data = all_data, REML = FALSE, control = control)\n",
    "\n",
    "summary(model)\n",
    "\n",
    "# print(model.matrix(model))\n",
    "\"\"\""
   ]
  },
  {
   "cell_type": "code",
   "execution_count": 24,
   "metadata": {},
   "outputs": [
    {
     "name": "stdout",
     "output_type": "stream",
     "text": [
      "Linear mixed model fit by maximum likelihood . t-tests use Satterthwaite's\n",
      "  method [lmerModLmerTest]\n",
      "Formula: rt ~ modality * question + modality_order * question_order +  \n",
      "    (1 + question | subject) + (1 + question | item)\n",
      "   Data: all_data\n",
      "Control: control\n",
      "\n",
      "      AIC       BIC    logLik -2*log(L)  df.resid \n",
      "  10389.8   10458.0   -5180.9   10361.8       946 \n",
      "\n",
      "Scaled residuals: \n",
      "    Min      1Q  Median      3Q     Max \n",
      "-3.3800 -0.6609 -0.0066  0.6469  3.1095 \n",
      "\n",
      "Random effects:\n",
      " Groups   Name        Variance Std.Dev. Corr\n",
      " item     (Intercept) 1788.8   42.29        \n",
      "          question1    276.6   16.63    0.14\n",
      " subject  (Intercept)  958.1   30.95        \n",
      "          question1    101.1   10.05    0.10\n",
      " Residual             2441.1   49.41        \n",
      "Number of obs: 960, groups:  item, 30; subject, 8\n",
      "\n",
      "Fixed effects:\n",
      "                                Estimate Std. Error      df t value Pr(>|t|)\n",
      "(Intercept)                      313.207     13.488  16.215  23.221 7.14e-14\n",
      "modality1                         -7.559      3.189 885.220  -2.370    0.018\n",
      "question1                         -8.623      5.659  12.785  -1.524    0.152\n",
      "modality_order1                    2.743      3.189 885.220   0.860    0.390\n",
      "question_order1                   -4.051      4.763   7.912  -0.850    0.420\n",
      "modality1:question1               -2.065      6.378 885.220  -0.324    0.746\n",
      "modality_order1:question_order1    0.216      6.378 885.220   0.034    0.973\n",
      "                                   \n",
      "(Intercept)                     ***\n",
      "modality1                       *  \n",
      "question1                          \n",
      "modality_order1                    \n",
      "question_order1                    \n",
      "modality1:question1                \n",
      "modality_order1:question_order1    \n",
      "---\n",
      "Signif. codes:  0 ‘***’ 0.001 ‘**’ 0.01 ‘*’ 0.05 ‘.’ 0.1 ‘ ’ 1\n",
      "\n",
      "Correlation of Fixed Effects:\n",
      "            (Intr) mdlty1 qustn1 mdlt_1 qstn_1 mdl1:1\n",
      "modality1   0.000                                    \n",
      "question1   0.093  0.000                             \n",
      "modlty_rdr1 0.000  0.000  0.000                      \n",
      "questn_rdr1 0.000  0.000  0.000  0.000               \n",
      "mdlty1:qst1 0.000  0.000  0.000  0.000  0.000        \n",
      "mdlty_r1:_1 0.000  0.000  0.000  0.000  0.000  0.000 \n"
     ]
    }
   ],
   "source": [
    "R(code)"
   ]
  },
  {
   "cell_type": "markdown",
   "metadata": {},
   "source": [
    "# Everything!"
   ]
  },
  {
   "cell_type": "code",
   "execution_count": 25,
   "metadata": {},
   "outputs": [],
   "source": [
    "code = f\"\"\"\n",
    "\n",
    "suppressMessages(library(lme4))\n",
    "suppressMessages(library(lmerTest))\n",
    "suppressMessages(library(tidyverse))\n",
    "\n",
    "control <- lmerControl(optimizer = \"bobyqa\", check.conv.singular = \"ignore\") # suppress singular fit warnings\n",
    "\n",
    "all_data <- {to_r(df)} %>%\n",
    "  mutate(\n",
    "    question = as.factor(question),\n",
    "    subject = as.factor(subject),\n",
    "    item = as.factor(item),\n",
    "    tag = as.factor(tag),\n",
    "    modality = factor(modality, levels = c(\"word\", \"image\")), \n",
    "    block = as.factor(block_order),\n",
    "    question_order = as.factor(question_order),\n",
    "    modality_order = as.factor(modality_order)\n",
    "  )\n",
    "\n",
    "# set reference levels\n",
    "contrasts(all_data$modality) <- c(-0.5, 0.5)\n",
    "contrasts(all_data$question) <- c(-0.5, 0.5)\n",
    "contrasts(all_data$block) <- contr.sum(4)\n",
    "contrasts(all_data$question_order) <- c(-0.5, 0.5)\n",
    "contrasts(all_data$modality_order) <- c(-0.5, 0.5)\n",
    "\n",
    "model <- lmer(rt ~ modality * question + modality_order * question_order * block +\n",
    "                (1 + question | subject) +\n",
    "                (1 + question | item),\n",
    "              data = all_data, REML = FALSE, control = control)\n",
    "\n",
    "summary(model)\n",
    "\n",
    "# print(model.matrix(model))\n",
    "\"\"\""
   ]
  },
  {
   "cell_type": "code",
   "execution_count": 26,
   "metadata": {},
   "outputs": [
    {
     "name": "stdout",
     "output_type": "stream",
     "text": [
      "Linear mixed model fit by maximum likelihood . t-tests use Satterthwaite's\n",
      "  method [lmerModLmerTest]\n",
      "Formula: rt ~ modality * question + modality_order * question_order *  \n",
      "    block + (1 + question | subject) + (1 + question | item)\n",
      "   Data: all_data\n",
      "Control: control\n",
      "\n",
      "      AIC       BIC    logLik -2*log(L)  df.resid \n",
      "  10393.4   10476.2   -5179.7   10359.4       943 \n",
      "\n",
      "Scaled residuals: \n",
      "    Min      1Q  Median      3Q     Max \n",
      "-3.3669 -0.6677 -0.0006  0.6409  3.1186 \n",
      "\n",
      "Random effects:\n",
      " Groups   Name        Variance Std.Dev. Corr \n",
      " item     (Intercept) 1783.3   42.23         \n",
      "          question1    275.7   16.60    0.13 \n",
      " subject  (Intercept)  897.2   29.95         \n",
      "          question1    121.5   11.02    -0.68\n",
      " Residual             2440.0   49.40         \n",
      "Number of obs: 960, groups:  item, 30; subject, 8\n",
      "\n",
      "Fixed effects:\n",
      "                                Estimate Std. Error       df t value Pr(>|t|)\n",
      "(Intercept)                     313.2072    13.1960  16.6140  23.735 2.98e-14\n",
      "modality1                        -7.5590     3.1885 885.1941  -2.371   0.0180\n",
      "question1                        -8.6233     5.8780   7.7847  -1.467   0.1816\n",
      "modality_order1                  13.5877     6.2379  33.5726   2.178   0.0365\n",
      "question_order1                  -0.8807     4.3102   7.7293  -0.204   0.8434\n",
      "block1                            8.8298     4.3102   7.7293   2.049   0.0759\n",
      "block2                            2.0147     3.1885 885.1941   0.632   0.5276\n",
      "modality1:question1              -2.0651     6.3770 885.1941  -0.324   0.7461\n",
      "modality_order1:question_order1 -42.4690    37.2148   4.7410  -1.141   0.3081\n",
      "question_order1:block1          -42.6850    36.6643   4.4667  -1.164   0.3027\n",
      "                                   \n",
      "(Intercept)                     ***\n",
      "modality1                       *  \n",
      "question1                          \n",
      "modality_order1                 *  \n",
      "question_order1                    \n",
      "block1                          .  \n",
      "block2                             \n",
      "modality1:question1                \n",
      "modality_order1:question_order1    \n",
      "question_order1:block1             \n",
      "---\n",
      "Signif. codes:  0 ‘***’ 0.001 ‘**’ 0.01 ‘*’ 0.05 ‘.’ 0.1 ‘ ’ 1\n",
      "\n",
      "Correlation of Fixed Effects:\n",
      "            (Intr) mdlty1 qustn1 mdlt_1 qstn_1 block1 block2 mdl1:1 m_1:_1\n",
      "modality1    0.000                                                        \n",
      "question1   -0.321  0.000                                                 \n",
      "modlty_rdr1  0.000  0.000  0.000                                          \n",
      "questn_rdr1  0.000  0.000  0.000  0.000                                   \n",
      "block1       0.000  0.000  0.000  0.691  0.000                            \n",
      "block2       0.000  0.000  0.000  0.511  0.000  0.000                     \n",
      "mdlty1:qst1  0.000  0.000  0.000  0.000  0.000  0.000  0.000              \n",
      "mdlty_r1:_1  0.000  0.000  0.000  0.000  0.000  0.000  0.000  0.000       \n",
      "qstn_rdr1:1  0.000  0.000  0.000  0.000  0.000  0.000  0.000  0.000  0.985\n",
      "fit warnings:\n",
      "fixed-effect model matrix is rank deficient so dropping 9 columns / coefficients\n"
     ]
    },
    {
     "name": "stderr",
     "output_type": "stream",
     "text": [
      "fixed-effect model matrix is rank deficient so dropping 9 columns / coefficients\n",
      "fixed-effect model matrix is rank deficient so dropping 9 columns / coefficients\n"
     ]
    }
   ],
   "source": [
    "R(code)"
   ]
  },
  {
   "cell_type": "markdown",
   "metadata": {},
   "source": [
    "# Conclusion\n",
    "\n",
    "I think that a `modality_order * question_order` captures the largest combination of possible order effects. Both main effects of these factors as well as their interaction do not produce rank deficient warnings. `Block_order` does not capture _everything_ and having it interact with a base term (`modality` or `question`) will yield a rank-deficient design matrix."
   ]
  },
  {
   "cell_type": "code",
   "execution_count": null,
   "metadata": {},
   "outputs": [],
   "source": []
  }
 ],
 "metadata": {
  "kernelspec": {
   "display_name": "wiscs",
   "language": "python",
   "name": "python3"
  },
  "language_info": {
   "codemirror_mode": {
    "name": "ipython",
    "version": 3
   },
   "file_extension": ".py",
   "mimetype": "text/x-python",
   "name": "python",
   "nbconvert_exporter": "python",
   "pygments_lexer": "ipython3",
   "version": "3.12.0"
  }
 },
 "nbformat": 4,
 "nbformat_minor": 2
}
