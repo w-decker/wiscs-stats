{
  "nbformat": 4,
  "nbformat_minor": 0,
  "metadata": {
    "colab": {
      "provenance": [],
      "authorship_tag": "ABX9TyMVXHsEt31AQOu2kwt1pPq5",
      "include_colab_link": true
    },
    "kernelspec": {
      "name": "python3",
      "display_name": "Python 3"
    },
    "language_info": {
      "name": "python"
    }
  },
  "cells": [
    {
      "cell_type": "markdown",
      "metadata": {
        "id": "view-in-github",
        "colab_type": "text"
      },
      "source": [
        "<a href=\"https://colab.research.google.com/github/w-decker/wiscs-stats/blob/main/stats_pipeline.ipynb\" target=\"_parent\"><img src=\"https://colab.research.google.com/assets/colab-badge.svg\" alt=\"Open In Colab\"/></a>"
      ]
    },
    {
      "cell_type": "code",
      "execution_count": 12,
      "metadata": {
        "colab": {
          "base_uri": "https://localhost:8080/"
        },
        "cellView": "form",
        "id": "W8npoWX2Insj",
        "outputId": "0f140a77-1697-43e8-b5e4-b0fa0bca739c"
      },
      "outputs": [
        {
          "output_type": "stream",
          "name": "stdout",
          "text": [
            "Downloaded: simulated_Potter1975.csv\n",
            "Downloaded: simulated_main.csv\n",
            "Downloaded: simulated_alt.csv\n"
          ]
        }
      ],
      "source": [
        "# @title # Load data\n",
        "\n",
        "import requests\n",
        "from typing import Union\n",
        "import os\n",
        "\n",
        "DATA_PATH = \"https://raw.githubusercontent.com/w-decker/wiscs-stats/main/data/\"\n",
        "FILES = [\"simulated_Potter1975.csv\", \"simulated_main.csv\", \"simulated_alt.csv\"]\n",
        "\n",
        "def load_data(url:str, file:Union[str, list[str]]):\n",
        "\n",
        "    os.makedirs(\"data\", exist_ok=True)\n",
        "\n",
        "    # Download each file\n",
        "    for fname in file:\n",
        "        file_url = url + fname\n",
        "        local_path = os.path.join(\"data\", fname)\n",
        "        response = requests.get(file_url)\n",
        "\n",
        "        if response.status_code == 200:\n",
        "            with open(local_path, \"wb\") as f:\n",
        "                f.write(response.content)\n",
        "            print(f\"Downloaded: {fname}\")\n",
        "        else:\n",
        "            print(f\"Failed to download: {fname} (Status Code: {response.status_code})\")\n",
        "\n",
        "load_data(DATA_PATH, FILES)"
      ]
    },
    {
      "cell_type": "code",
      "source": [
        "# @title # Helper functions\n",
        "from statsmodels.regression.mixed_linear_model import MixedLMResultsWrapper # type: ignore\n",
        "from typing import Mapping, Tuple\n",
        "\n",
        "aic = lambda models: {label: model.aic for label, model in models.items()}\n",
        "\n",
        "def best_model(models: Mapping[any, MixedLMResultsWrapper], metric:str=\"aic\") ->Tuple[any, MixedLMResultsWrapper]:\n",
        "    \"\"\"Return the best model based on metric\"\"\"\n",
        "    assert metric in [\"aic\", \"bic\"], \"Invalid metric\"\n",
        "    key = lambda item: getattr(item[1], metric)\n",
        "    label, winner = min(models.items(), key=key)\n",
        "    return label, winner"
      ],
      "metadata": {
        "id": "KiOxPDyELSJs"
      },
      "execution_count": 14,
      "outputs": []
    },
    {
      "cell_type": "code",
      "source": [
        "# @title # Imports\n",
        "import statsmodels.formula.api as smf # type: ignore"
      ],
      "metadata": {
        "id": "KoUwDfz4JbNI"
      },
      "execution_count": 13,
      "outputs": []
    },
    {
      "cell_type": "code",
      "source": [
        "d"
      ],
      "metadata": {
        "colab": {
          "base_uri": "https://localhost:8080/"
        },
        "id": "yr1fn_5DJdRZ",
        "outputId": "8f26b876-10ef-4898-cafb-5beac8cef142"
      },
      "execution_count": 3,
      "outputs": [
        {
          "output_type": "execute_result",
          "data": {
            "text/plain": [
              "<Response [200]>"
            ]
          },
          "metadata": {},
          "execution_count": 3
        }
      ]
    },
    {
      "cell_type": "code",
      "source": [
        "d.content."
      ],
      "metadata": {
        "colab": {
          "base_uri": "https://localhost:8080/",
          "height": 141
        },
        "id": "MPZuBMmfJdyd",
        "outputId": "f3e65c2e-0f35-47d8-b55b-4b20a4b90ef0"
      },
      "execution_count": 7,
      "outputs": [
        {
          "output_type": "error",
          "ename": "TypeError",
          "evalue": "'bytes' object is not callable",
          "traceback": [
            "\u001b[0;31m---------------------------------------------------------------------------\u001b[0m",
            "\u001b[0;31mTypeError\u001b[0m                                 Traceback (most recent call last)",
            "\u001b[0;32m<ipython-input-7-94a38c56a1b1>\u001b[0m in \u001b[0;36m<cell line: 1>\u001b[0;34m()\u001b[0m\n\u001b[0;32m----> 1\u001b[0;31m \u001b[0md\u001b[0m\u001b[0;34m.\u001b[0m\u001b[0mcontent\u001b[0m\u001b[0;34m(\u001b[0m\u001b[0;34m)\u001b[0m\u001b[0;34m\u001b[0m\u001b[0;34m\u001b[0m\u001b[0m\n\u001b[0m",
            "\u001b[0;31mTypeError\u001b[0m: 'bytes' object is not callable"
          ]
        }
      ]
    },
    {
      "cell_type": "code",
      "source": [],
      "metadata": {
        "id": "om_bBYxrJrhZ"
      },
      "execution_count": null,
      "outputs": []
    }
  ]
}